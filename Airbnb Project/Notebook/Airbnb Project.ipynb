{
 "cells": [
  {
   "cell_type": "markdown",
   "metadata": {},
   "source": [
    "# Introduction\n",
    "\n",
    "Project aiming to implement the CRISP-DM analysis methodology. <br>\n",
    "This methodology uses 6 steps:\n",
    "1: Business Understanding,<br>\n",
    "2: Data Understanding,<br>\n",
    "3: Data Preparation,<br>\n",
    "4: Modeling the data,<br>\n",
    "5: Evaluation of the results,<br>\n",
    "6: Deployment of changes based on your analysis.\n",
    "\n",
    "## Part I: Business Understanding\n",
    "\n",
    "The project's objective is to verify the general performance of the streets with a greater amount of evaluations, with more expensive rental prices and price by type of residence. At the end, create a machine learning model to predict rental price."
   ]
  },
  {
   "cell_type": "markdown",
   "metadata": {},
   "source": [
    "### Importing libraries"
   ]
  },
  {
   "cell_type": "code",
   "execution_count": 1,
   "metadata": {},
   "outputs": [],
   "source": [
    "import pandas as pd\n",
    "import numpy as np\n",
    "import matplotlib.pyplot as plt\n",
    "import seaborn as sns\n",
    "from sklearn.linear_model import LinearRegression\n",
    "from sklearn.linear_model import RidgeCV\n",
    "from sklearn.model_selection import train_test_split\n",
    "from sklearn.linear_model import SGDRegressor\n",
    "from sklearn.linear_model import Ridge\n",
    "from sklearn.metrics import r2_score, mean_squared_error\n",
    "from sklearn.model_selection import RepeatedStratifiedKFold\n",
    "import re"
   ]
  },
  {
   "cell_type": "code",
   "execution_count": 2,
   "metadata": {},
   "outputs": [],
   "source": [
    "sns.set_palette('Accent')\n",
    "sns.set_style('darkgrid')"
   ]
  },
  {
   "cell_type": "markdown",
   "metadata": {},
   "source": [
    "## Created Funcs"
   ]
  },
  {
   "cell_type": "code",
   "execution_count": 3,
   "metadata": {},
   "outputs": [],
   "source": [
    "def float_transformation(df, columns):\n",
    "    # Function created to remove the characters \"$\" and \",\" from our dataset,\n",
    "    # The \"price\" column has these values, so the intention is to remove them to make the conversion to float.\n",
    "\n",
    "    for i in columns:\n",
    "        df[i] = df[i].str.replace('$', '').str.replace(',', '').astype('float')\n",
    "        \n",
    "    return df\n",
    "\n",
    "def model_testing(modelo):\n",
    "    '''\n",
    "    Function created to test the instantiated models,\n",
    "    For its use, it is necessary to have the models instantiated and already have the training and test data\n",
    "    On its return, it will return the metric R2, training R2 and MSE\n",
    "    '''\n",
    "    \n",
    "    modelo.fit(X_train, y_train)\n",
    "    ypred = modelo.predict(X_test)\n",
    "    ypred_train = modelo.predict(X_train)\n",
    "\n",
    "    r2_test = r2_score(y_test, ypred)\n",
    "    r2_train = r2_score(y_train, ypred_train)\n",
    "    mse = mean_squared_error(y_test, ypred)\n",
    "    \n",
    "    print('R2 Score: {}, R2 train score: {}, mean_squared_error: {}'.format(r2_test, r2_train, mse))"
   ]
  },
  {
   "cell_type": "markdown",
   "metadata": {},
   "source": [
    "# Part II: Data Understanding"
   ]
  },
  {
   "cell_type": "markdown",
   "metadata": {},
   "source": [
    "## Reading the data"
   ]
  },
  {
   "cell_type": "code",
   "execution_count": 4,
   "metadata": {},
   "outputs": [],
   "source": [
    "seatle_listings = pd.read_csv('..\\Data\\seatle_listings.csv', encoding='utf-8')"
   ]
  },
  {
   "cell_type": "code",
   "execution_count": 5,
   "metadata": {},
   "outputs": [
    {
     "data": {
      "text/plain": [
       "(3818, 92)"
      ]
     },
     "execution_count": 5,
     "metadata": {},
     "output_type": "execute_result"
    }
   ],
   "source": [
    "seatle_listings.shape"
   ]
  },
  {
   "cell_type": "markdown",
   "metadata": {},
   "source": [
    "## Understanding the columns\n",
    "\n",
    "First we will check how many columns have all the values and then check which ones have the most missing data."
   ]
  },
  {
   "cell_type": "code",
   "execution_count": 6,
   "metadata": {},
   "outputs": [
    {
     "data": {
      "text/plain": [
       "47"
      ]
     },
     "execution_count": 6,
     "metadata": {},
     "output_type": "execute_result"
    }
   ],
   "source": [
    "# 47 columns have all values filled in\n",
    "len(seatle_listings.columns[seatle_listings.isnull().mean() == 0])"
   ]
  },
  {
   "cell_type": "code",
   "execution_count": 7,
   "metadata": {},
   "outputs": [
    {
     "data": {
      "text/plain": [
       "Index(['square_feet', 'monthly_price', 'security_deposit', 'license'], dtype='object')"
      ]
     },
     "execution_count": 7,
     "metadata": {},
     "output_type": "execute_result"
    }
   ],
   "source": [
    "# Columns with 50% of missing values\n",
    "seatle_listings.columns[seatle_listings.isnull().mean() > .50]"
   ]
  },
  {
   "cell_type": "code",
   "execution_count": 8,
   "metadata": {},
   "outputs": [
    {
     "data": {
      "text/plain": [
       "Index(['square_feet', 'license'], dtype='object')"
      ]
     },
     "execution_count": 8,
     "metadata": {},
     "output_type": "execute_result"
    }
   ],
   "source": [
    "# columns with 75% of the missing values.\n",
    "seatle_listings.columns[seatle_listings.isnull().mean() > .75]"
   ]
  },
  {
   "cell_type": "markdown",
   "metadata": {},
   "source": [
    "# Part III: Data Preparation"
   ]
  },
  {
   "cell_type": "markdown",
   "metadata": {},
   "source": [
    "#### Columns drop with all nan and none values"
   ]
  },
  {
   "cell_type": "code",
   "execution_count": 9,
   "metadata": {},
   "outputs": [
    {
     "data": {
      "text/plain": [
       "array([nan])"
      ]
     },
     "execution_count": 9,
     "metadata": {},
     "output_type": "execute_result"
    }
   ],
   "source": [
    "# All values entered here are NaN, so they will be dropped.\n",
    "seatle_listings['license'].unique()"
   ]
  },
  {
   "cell_type": "code",
   "execution_count": 10,
   "metadata": {},
   "outputs": [],
   "source": [
    "seatle_listings.dropna(how = 'all', axis = 1, inplace = True)"
   ]
  },
  {
   "cell_type": "code",
   "execution_count": 11,
   "metadata": {},
   "outputs": [],
   "source": [
    "# all values entered here are None, so they will also be dropped.\n",
    "seatle_listings.drop('experiences_offered', axis = 1, inplace = True)"
   ]
  },
  {
   "cell_type": "markdown",
   "metadata": {},
   "source": [
    "#### Checking categorical columns"
   ]
  },
  {
   "cell_type": "code",
   "execution_count": 12,
   "metadata": {},
   "outputs": [
    {
     "data": {
      "text/plain": [
       "{'amenities',\n",
       " 'bed_type',\n",
       " 'calendar_last_scraped',\n",
       " 'calendar_updated',\n",
       " 'cancellation_policy',\n",
       " 'city',\n",
       " 'cleaning_fee',\n",
       " 'country',\n",
       " 'country_code',\n",
       " 'description',\n",
       " 'extra_people',\n",
       " 'first_review',\n",
       " 'has_availability',\n",
       " 'host_about',\n",
       " 'host_acceptance_rate',\n",
       " 'host_has_profile_pic',\n",
       " 'host_identity_verified',\n",
       " 'host_is_superhost',\n",
       " 'host_location',\n",
       " 'host_name',\n",
       " 'host_neighbourhood',\n",
       " 'host_picture_url',\n",
       " 'host_response_rate',\n",
       " 'host_response_time',\n",
       " 'host_since',\n",
       " 'host_thumbnail_url',\n",
       " 'host_url',\n",
       " 'host_verifications',\n",
       " 'instant_bookable',\n",
       " 'is_location_exact',\n",
       " 'jurisdiction_names',\n",
       " 'last_review',\n",
       " 'last_scraped',\n",
       " 'listing_url',\n",
       " 'market',\n",
       " 'medium_url',\n",
       " 'monthly_price',\n",
       " 'name',\n",
       " 'neighborhood_overview',\n",
       " 'neighbourhood',\n",
       " 'neighbourhood_cleansed',\n",
       " 'neighbourhood_group_cleansed',\n",
       " 'notes',\n",
       " 'picture_url',\n",
       " 'price',\n",
       " 'property_type',\n",
       " 'require_guest_phone_verification',\n",
       " 'require_guest_profile_picture',\n",
       " 'requires_license',\n",
       " 'room_type',\n",
       " 'security_deposit',\n",
       " 'smart_location',\n",
       " 'space',\n",
       " 'state',\n",
       " 'street',\n",
       " 'summary',\n",
       " 'thumbnail_url',\n",
       " 'transit',\n",
       " 'weekly_price',\n",
       " 'xl_picture_url',\n",
       " 'zipcode'}"
      ]
     },
     "execution_count": 12,
     "metadata": {},
     "output_type": "execute_result"
    }
   ],
   "source": [
    "# With this set we will check columns that are possibly numeric and are listed as str\n",
    "set(seatle_listings.select_dtypes('object').columns)"
   ]
  },
  {
   "cell_type": "code",
   "execution_count": 13,
   "metadata": {},
   "outputs": [
    {
     "data": {
      "text/plain": [
       "False    0.998167\n",
       "True     0.001833\n",
       "Name: zipcode, dtype: float64"
      ]
     },
     "execution_count": 13,
     "metadata": {},
     "output_type": "execute_result"
    }
   ],
   "source": [
    "# Checking possible variables for grouping, possibly the ZIPCODE will be chosen, because the percentage of missing items is very low.\n",
    "seatle_listings['zipcode'].isnull().value_counts(normalize = True)"
   ]
  },
  {
   "cell_type": "code",
   "execution_count": 14,
   "metadata": {},
   "outputs": [
    {
     "data": {
      "text/plain": [
       "False    3818\n",
       "Name: street, dtype: int64"
      ]
     },
     "execution_count": 14,
     "metadata": {},
     "output_type": "execute_result"
    }
   ],
   "source": [
    "# Street is also a great option, as all values are filled in.\n",
    "seatle_listings['street'].isnull().value_counts()"
   ]
  },
  {
   "cell_type": "markdown",
   "metadata": {},
   "source": [
    "# Part IV: Modeling the data"
   ]
  },
  {
   "cell_type": "markdown",
   "metadata": {},
   "source": [
    "#### Conversion to numeric values"
   ]
  },
  {
   "cell_type": "code",
   "execution_count": 15,
   "metadata": {},
   "outputs": [
    {
     "data": {
      "text/html": [
       "<div>\n",
       "<style scoped>\n",
       "    .dataframe tbody tr th:only-of-type {\n",
       "        vertical-align: middle;\n",
       "    }\n",
       "\n",
       "    .dataframe tbody tr th {\n",
       "        vertical-align: top;\n",
       "    }\n",
       "\n",
       "    .dataframe thead th {\n",
       "        text-align: right;\n",
       "    }\n",
       "</style>\n",
       "<table border=\"1\" class=\"dataframe\">\n",
       "  <thead>\n",
       "    <tr style=\"text-align: right;\">\n",
       "      <th></th>\n",
       "      <th>id</th>\n",
       "      <th>listing_url</th>\n",
       "      <th>scrape_id</th>\n",
       "      <th>last_scraped</th>\n",
       "      <th>name</th>\n",
       "      <th>summary</th>\n",
       "      <th>space</th>\n",
       "      <th>description</th>\n",
       "      <th>neighborhood_overview</th>\n",
       "      <th>notes</th>\n",
       "      <th>...</th>\n",
       "      <th>review_scores_location</th>\n",
       "      <th>review_scores_value</th>\n",
       "      <th>requires_license</th>\n",
       "      <th>jurisdiction_names</th>\n",
       "      <th>instant_bookable</th>\n",
       "      <th>cancellation_policy</th>\n",
       "      <th>require_guest_profile_picture</th>\n",
       "      <th>require_guest_phone_verification</th>\n",
       "      <th>calculated_host_listings_count</th>\n",
       "      <th>reviews_per_month</th>\n",
       "    </tr>\n",
       "  </thead>\n",
       "  <tbody>\n",
       "    <tr>\n",
       "      <th>0</th>\n",
       "      <td>241032</td>\n",
       "      <td>https://www.airbnb.com/rooms/241032</td>\n",
       "      <td>20160104002432</td>\n",
       "      <td>2016-01-04</td>\n",
       "      <td>Stylish Queen Anne Apartment</td>\n",
       "      <td>NaN</td>\n",
       "      <td>Make your self at home in this charming one-be...</td>\n",
       "      <td>Make your self at home in this charming one-be...</td>\n",
       "      <td>NaN</td>\n",
       "      <td>NaN</td>\n",
       "      <td>...</td>\n",
       "      <td>9.0</td>\n",
       "      <td>10.0</td>\n",
       "      <td>f</td>\n",
       "      <td>WASHINGTON</td>\n",
       "      <td>f</td>\n",
       "      <td>moderate</td>\n",
       "      <td>f</td>\n",
       "      <td>f</td>\n",
       "      <td>2</td>\n",
       "      <td>4.07</td>\n",
       "    </tr>\n",
       "    <tr>\n",
       "      <th>1</th>\n",
       "      <td>953595</td>\n",
       "      <td>https://www.airbnb.com/rooms/953595</td>\n",
       "      <td>20160104002432</td>\n",
       "      <td>2016-01-04</td>\n",
       "      <td>Bright &amp; Airy Queen Anne Apartment</td>\n",
       "      <td>Chemically sensitive? We've removed the irrita...</td>\n",
       "      <td>Beautiful, hypoallergenic apartment in an extr...</td>\n",
       "      <td>Chemically sensitive? We've removed the irrita...</td>\n",
       "      <td>Queen Anne is a wonderful, truly functional vi...</td>\n",
       "      <td>What's up with the free pillows?  Our home was...</td>\n",
       "      <td>...</td>\n",
       "      <td>10.0</td>\n",
       "      <td>10.0</td>\n",
       "      <td>f</td>\n",
       "      <td>WASHINGTON</td>\n",
       "      <td>f</td>\n",
       "      <td>strict</td>\n",
       "      <td>t</td>\n",
       "      <td>t</td>\n",
       "      <td>6</td>\n",
       "      <td>1.48</td>\n",
       "    </tr>\n",
       "    <tr>\n",
       "      <th>2</th>\n",
       "      <td>3308979</td>\n",
       "      <td>https://www.airbnb.com/rooms/3308979</td>\n",
       "      <td>20160104002432</td>\n",
       "      <td>2016-01-04</td>\n",
       "      <td>New Modern House-Amazing water view</td>\n",
       "      <td>New modern house built in 2013.  Spectacular s...</td>\n",
       "      <td>Our house is modern, light and fresh with a wa...</td>\n",
       "      <td>New modern house built in 2013.  Spectacular s...</td>\n",
       "      <td>Upper Queen Anne is a charming neighborhood fu...</td>\n",
       "      <td>Our house is located just 5 short blocks to To...</td>\n",
       "      <td>...</td>\n",
       "      <td>10.0</td>\n",
       "      <td>10.0</td>\n",
       "      <td>f</td>\n",
       "      <td>WASHINGTON</td>\n",
       "      <td>f</td>\n",
       "      <td>strict</td>\n",
       "      <td>f</td>\n",
       "      <td>f</td>\n",
       "      <td>2</td>\n",
       "      <td>1.15</td>\n",
       "    </tr>\n",
       "    <tr>\n",
       "      <th>3</th>\n",
       "      <td>7421966</td>\n",
       "      <td>https://www.airbnb.com/rooms/7421966</td>\n",
       "      <td>20160104002432</td>\n",
       "      <td>2016-01-04</td>\n",
       "      <td>Queen Anne Chateau</td>\n",
       "      <td>A charming apartment that sits atop Queen Anne...</td>\n",
       "      <td>NaN</td>\n",
       "      <td>A charming apartment that sits atop Queen Anne...</td>\n",
       "      <td>NaN</td>\n",
       "      <td>NaN</td>\n",
       "      <td>...</td>\n",
       "      <td>NaN</td>\n",
       "      <td>NaN</td>\n",
       "      <td>f</td>\n",
       "      <td>WASHINGTON</td>\n",
       "      <td>f</td>\n",
       "      <td>flexible</td>\n",
       "      <td>f</td>\n",
       "      <td>f</td>\n",
       "      <td>1</td>\n",
       "      <td>NaN</td>\n",
       "    </tr>\n",
       "    <tr>\n",
       "      <th>4</th>\n",
       "      <td>278830</td>\n",
       "      <td>https://www.airbnb.com/rooms/278830</td>\n",
       "      <td>20160104002432</td>\n",
       "      <td>2016-01-04</td>\n",
       "      <td>Charming craftsman 3 bdm house</td>\n",
       "      <td>Cozy family craftman house in beautiful neighb...</td>\n",
       "      <td>Cozy family craftman house in beautiful neighb...</td>\n",
       "      <td>Cozy family craftman house in beautiful neighb...</td>\n",
       "      <td>We are in the beautiful neighborhood of Queen ...</td>\n",
       "      <td>Belltown</td>\n",
       "      <td>...</td>\n",
       "      <td>9.0</td>\n",
       "      <td>9.0</td>\n",
       "      <td>f</td>\n",
       "      <td>WASHINGTON</td>\n",
       "      <td>f</td>\n",
       "      <td>strict</td>\n",
       "      <td>f</td>\n",
       "      <td>f</td>\n",
       "      <td>1</td>\n",
       "      <td>0.89</td>\n",
       "    </tr>\n",
       "    <tr>\n",
       "      <th>...</th>\n",
       "      <td>...</td>\n",
       "      <td>...</td>\n",
       "      <td>...</td>\n",
       "      <td>...</td>\n",
       "      <td>...</td>\n",
       "      <td>...</td>\n",
       "      <td>...</td>\n",
       "      <td>...</td>\n",
       "      <td>...</td>\n",
       "      <td>...</td>\n",
       "      <td>...</td>\n",
       "      <td>...</td>\n",
       "      <td>...</td>\n",
       "      <td>...</td>\n",
       "      <td>...</td>\n",
       "      <td>...</td>\n",
       "      <td>...</td>\n",
       "      <td>...</td>\n",
       "      <td>...</td>\n",
       "      <td>...</td>\n",
       "      <td>...</td>\n",
       "    </tr>\n",
       "    <tr>\n",
       "      <th>3813</th>\n",
       "      <td>8101950</td>\n",
       "      <td>https://www.airbnb.com/rooms/8101950</td>\n",
       "      <td>20160104002432</td>\n",
       "      <td>2016-01-04</td>\n",
       "      <td>3BR Mountain View House in Seattle</td>\n",
       "      <td>Our 3BR/2BA house boasts incredible views of t...</td>\n",
       "      <td>Our 3BR/2BA house bright, stylish, and wheelch...</td>\n",
       "      <td>Our 3BR/2BA house boasts incredible views of t...</td>\n",
       "      <td>We're located near lots of family fun. Woodlan...</td>\n",
       "      <td>NaN</td>\n",
       "      <td>...</td>\n",
       "      <td>10.0</td>\n",
       "      <td>8.0</td>\n",
       "      <td>f</td>\n",
       "      <td>WASHINGTON</td>\n",
       "      <td>f</td>\n",
       "      <td>strict</td>\n",
       "      <td>f</td>\n",
       "      <td>f</td>\n",
       "      <td>8</td>\n",
       "      <td>0.30</td>\n",
       "    </tr>\n",
       "    <tr>\n",
       "      <th>3814</th>\n",
       "      <td>8902327</td>\n",
       "      <td>https://www.airbnb.com/rooms/8902327</td>\n",
       "      <td>20160104002432</td>\n",
       "      <td>2016-01-04</td>\n",
       "      <td>Portage Bay View!-One Bedroom Apt</td>\n",
       "      <td>800 square foot 1 bedroom basement apartment w...</td>\n",
       "      <td>This space has a great view of Portage Bay wit...</td>\n",
       "      <td>800 square foot 1 bedroom basement apartment w...</td>\n",
       "      <td>The neighborhood is a quiet oasis that is clos...</td>\n",
       "      <td>This is a basement apartment in a newer reside...</td>\n",
       "      <td>...</td>\n",
       "      <td>10.0</td>\n",
       "      <td>10.0</td>\n",
       "      <td>f</td>\n",
       "      <td>WASHINGTON</td>\n",
       "      <td>f</td>\n",
       "      <td>moderate</td>\n",
       "      <td>f</td>\n",
       "      <td>f</td>\n",
       "      <td>1</td>\n",
       "      <td>2.00</td>\n",
       "    </tr>\n",
       "    <tr>\n",
       "      <th>3815</th>\n",
       "      <td>10267360</td>\n",
       "      <td>https://www.airbnb.com/rooms/10267360</td>\n",
       "      <td>20160104002432</td>\n",
       "      <td>2016-01-04</td>\n",
       "      <td>Private apartment view of Lake WA</td>\n",
       "      <td>Very comfortable lower unit. Quiet, charming m...</td>\n",
       "      <td>NaN</td>\n",
       "      <td>Very comfortable lower unit. Quiet, charming m...</td>\n",
       "      <td>NaN</td>\n",
       "      <td>NaN</td>\n",
       "      <td>...</td>\n",
       "      <td>NaN</td>\n",
       "      <td>NaN</td>\n",
       "      <td>f</td>\n",
       "      <td>WASHINGTON</td>\n",
       "      <td>f</td>\n",
       "      <td>moderate</td>\n",
       "      <td>f</td>\n",
       "      <td>f</td>\n",
       "      <td>1</td>\n",
       "      <td>NaN</td>\n",
       "    </tr>\n",
       "    <tr>\n",
       "      <th>3816</th>\n",
       "      <td>9604740</td>\n",
       "      <td>https://www.airbnb.com/rooms/9604740</td>\n",
       "      <td>20160104002432</td>\n",
       "      <td>2016-01-04</td>\n",
       "      <td>Amazing View with Modern Comfort!</td>\n",
       "      <td>Cozy studio condo in the heart on Madison Park...</td>\n",
       "      <td>Fully furnished unit to accommodate most needs...</td>\n",
       "      <td>Cozy studio condo in the heart on Madison Park...</td>\n",
       "      <td>Madison Park offers a peaceful slow pace upsca...</td>\n",
       "      <td>NaN</td>\n",
       "      <td>...</td>\n",
       "      <td>NaN</td>\n",
       "      <td>NaN</td>\n",
       "      <td>f</td>\n",
       "      <td>WASHINGTON</td>\n",
       "      <td>f</td>\n",
       "      <td>moderate</td>\n",
       "      <td>f</td>\n",
       "      <td>f</td>\n",
       "      <td>1</td>\n",
       "      <td>NaN</td>\n",
       "    </tr>\n",
       "    <tr>\n",
       "      <th>3817</th>\n",
       "      <td>10208623</td>\n",
       "      <td>https://www.airbnb.com/rooms/10208623</td>\n",
       "      <td>20160104002432</td>\n",
       "      <td>2016-01-04</td>\n",
       "      <td>Large Lakefront Apartment</td>\n",
       "      <td>All hardwood floors, fireplace, 65\" TV with Xb...</td>\n",
       "      <td>NaN</td>\n",
       "      <td>All hardwood floors, fireplace, 65\" TV with Xb...</td>\n",
       "      <td>NaN</td>\n",
       "      <td>Also our puppy will be boarded away.</td>\n",
       "      <td>...</td>\n",
       "      <td>NaN</td>\n",
       "      <td>NaN</td>\n",
       "      <td>f</td>\n",
       "      <td>WASHINGTON</td>\n",
       "      <td>f</td>\n",
       "      <td>flexible</td>\n",
       "      <td>f</td>\n",
       "      <td>f</td>\n",
       "      <td>1</td>\n",
       "      <td>NaN</td>\n",
       "    </tr>\n",
       "  </tbody>\n",
       "</table>\n",
       "<p>3818 rows × 90 columns</p>\n",
       "</div>"
      ],
      "text/plain": [
       "            id                            listing_url       scrape_id  \\\n",
       "0       241032    https://www.airbnb.com/rooms/241032  20160104002432   \n",
       "1       953595    https://www.airbnb.com/rooms/953595  20160104002432   \n",
       "2      3308979   https://www.airbnb.com/rooms/3308979  20160104002432   \n",
       "3      7421966   https://www.airbnb.com/rooms/7421966  20160104002432   \n",
       "4       278830    https://www.airbnb.com/rooms/278830  20160104002432   \n",
       "...        ...                                    ...             ...   \n",
       "3813   8101950   https://www.airbnb.com/rooms/8101950  20160104002432   \n",
       "3814   8902327   https://www.airbnb.com/rooms/8902327  20160104002432   \n",
       "3815  10267360  https://www.airbnb.com/rooms/10267360  20160104002432   \n",
       "3816   9604740   https://www.airbnb.com/rooms/9604740  20160104002432   \n",
       "3817  10208623  https://www.airbnb.com/rooms/10208623  20160104002432   \n",
       "\n",
       "     last_scraped                                 name  \\\n",
       "0      2016-01-04         Stylish Queen Anne Apartment   \n",
       "1      2016-01-04   Bright & Airy Queen Anne Apartment   \n",
       "2      2016-01-04  New Modern House-Amazing water view   \n",
       "3      2016-01-04                   Queen Anne Chateau   \n",
       "4      2016-01-04       Charming craftsman 3 bdm house   \n",
       "...           ...                                  ...   \n",
       "3813   2016-01-04   3BR Mountain View House in Seattle   \n",
       "3814   2016-01-04    Portage Bay View!-One Bedroom Apt   \n",
       "3815   2016-01-04    Private apartment view of Lake WA   \n",
       "3816   2016-01-04    Amazing View with Modern Comfort!   \n",
       "3817   2016-01-04            Large Lakefront Apartment   \n",
       "\n",
       "                                                summary  \\\n",
       "0                                                   NaN   \n",
       "1     Chemically sensitive? We've removed the irrita...   \n",
       "2     New modern house built in 2013.  Spectacular s...   \n",
       "3     A charming apartment that sits atop Queen Anne...   \n",
       "4     Cozy family craftman house in beautiful neighb...   \n",
       "...                                                 ...   \n",
       "3813  Our 3BR/2BA house boasts incredible views of t...   \n",
       "3814  800 square foot 1 bedroom basement apartment w...   \n",
       "3815  Very comfortable lower unit. Quiet, charming m...   \n",
       "3816  Cozy studio condo in the heart on Madison Park...   \n",
       "3817  All hardwood floors, fireplace, 65\" TV with Xb...   \n",
       "\n",
       "                                                  space  \\\n",
       "0     Make your self at home in this charming one-be...   \n",
       "1     Beautiful, hypoallergenic apartment in an extr...   \n",
       "2     Our house is modern, light and fresh with a wa...   \n",
       "3                                                   NaN   \n",
       "4     Cozy family craftman house in beautiful neighb...   \n",
       "...                                                 ...   \n",
       "3813  Our 3BR/2BA house bright, stylish, and wheelch...   \n",
       "3814  This space has a great view of Portage Bay wit...   \n",
       "3815                                                NaN   \n",
       "3816  Fully furnished unit to accommodate most needs...   \n",
       "3817                                                NaN   \n",
       "\n",
       "                                            description  \\\n",
       "0     Make your self at home in this charming one-be...   \n",
       "1     Chemically sensitive? We've removed the irrita...   \n",
       "2     New modern house built in 2013.  Spectacular s...   \n",
       "3     A charming apartment that sits atop Queen Anne...   \n",
       "4     Cozy family craftman house in beautiful neighb...   \n",
       "...                                                 ...   \n",
       "3813  Our 3BR/2BA house boasts incredible views of t...   \n",
       "3814  800 square foot 1 bedroom basement apartment w...   \n",
       "3815  Very comfortable lower unit. Quiet, charming m...   \n",
       "3816  Cozy studio condo in the heart on Madison Park...   \n",
       "3817  All hardwood floors, fireplace, 65\" TV with Xb...   \n",
       "\n",
       "                                  neighborhood_overview  \\\n",
       "0                                                   NaN   \n",
       "1     Queen Anne is a wonderful, truly functional vi...   \n",
       "2     Upper Queen Anne is a charming neighborhood fu...   \n",
       "3                                                   NaN   \n",
       "4     We are in the beautiful neighborhood of Queen ...   \n",
       "...                                                 ...   \n",
       "3813  We're located near lots of family fun. Woodlan...   \n",
       "3814  The neighborhood is a quiet oasis that is clos...   \n",
       "3815                                                NaN   \n",
       "3816  Madison Park offers a peaceful slow pace upsca...   \n",
       "3817                                                NaN   \n",
       "\n",
       "                                                  notes  ...  \\\n",
       "0                                                   NaN  ...   \n",
       "1     What's up with the free pillows?  Our home was...  ...   \n",
       "2     Our house is located just 5 short blocks to To...  ...   \n",
       "3                                                   NaN  ...   \n",
       "4                                             Belltown   ...   \n",
       "...                                                 ...  ...   \n",
       "3813                                                NaN  ...   \n",
       "3814  This is a basement apartment in a newer reside...  ...   \n",
       "3815                                                NaN  ...   \n",
       "3816                                                NaN  ...   \n",
       "3817               Also our puppy will be boarded away.  ...   \n",
       "\n",
       "     review_scores_location review_scores_value requires_license  \\\n",
       "0                       9.0                10.0                f   \n",
       "1                      10.0                10.0                f   \n",
       "2                      10.0                10.0                f   \n",
       "3                       NaN                 NaN                f   \n",
       "4                       9.0                 9.0                f   \n",
       "...                     ...                 ...              ...   \n",
       "3813                   10.0                 8.0                f   \n",
       "3814                   10.0                10.0                f   \n",
       "3815                    NaN                 NaN                f   \n",
       "3816                    NaN                 NaN                f   \n",
       "3817                    NaN                 NaN                f   \n",
       "\n",
       "     jurisdiction_names instant_bookable  cancellation_policy  \\\n",
       "0            WASHINGTON                f             moderate   \n",
       "1            WASHINGTON                f               strict   \n",
       "2            WASHINGTON                f               strict   \n",
       "3            WASHINGTON                f             flexible   \n",
       "4            WASHINGTON                f               strict   \n",
       "...                 ...              ...                  ...   \n",
       "3813         WASHINGTON                f               strict   \n",
       "3814         WASHINGTON                f             moderate   \n",
       "3815         WASHINGTON                f             moderate   \n",
       "3816         WASHINGTON                f             moderate   \n",
       "3817         WASHINGTON                f             flexible   \n",
       "\n",
       "     require_guest_profile_picture require_guest_phone_verification  \\\n",
       "0                                f                                f   \n",
       "1                                t                                t   \n",
       "2                                f                                f   \n",
       "3                                f                                f   \n",
       "4                                f                                f   \n",
       "...                            ...                              ...   \n",
       "3813                             f                                f   \n",
       "3814                             f                                f   \n",
       "3815                             f                                f   \n",
       "3816                             f                                f   \n",
       "3817                             f                                f   \n",
       "\n",
       "     calculated_host_listings_count reviews_per_month  \n",
       "0                                 2              4.07  \n",
       "1                                 6              1.48  \n",
       "2                                 2              1.15  \n",
       "3                                 1               NaN  \n",
       "4                                 1              0.89  \n",
       "...                             ...               ...  \n",
       "3813                              8              0.30  \n",
       "3814                              1              2.00  \n",
       "3815                              1               NaN  \n",
       "3816                              1               NaN  \n",
       "3817                              1               NaN  \n",
       "\n",
       "[3818 rows x 90 columns]"
      ]
     },
     "execution_count": 15,
     "metadata": {},
     "output_type": "execute_result"
    }
   ],
   "source": [
    "# Columns identified as numeric values were converted.\n",
    "float_transformation(seatle_listings, seatle_listings[['extra_people', 'cleaning_fee', 'monthly_price', 'price', 'weekly_price', 'security_deposit']])"
   ]
  },
  {
   "cell_type": "markdown",
   "metadata": {},
   "source": [
    "#### Selecting values to be entered in the weekly value column\n",
    "\n",
    "I preferred to use this methodology than remove the columns, so it would still have a value to work with and would not \"throw away\" dataset information."
   ]
  },
  {
   "cell_type": "code",
   "execution_count": 16,
   "metadata": {},
   "outputs": [],
   "source": [
    "id_price = seatle_listings.groupby(['id'])['price'].sum()"
   ]
  },
  {
   "cell_type": "code",
   "execution_count": 17,
   "metadata": {},
   "outputs": [
    {
     "data": {
      "text/plain": [
       "0        595.0\n",
       "2       6825.0\n",
       "4       3150.0\n",
       "13      1155.0\n",
       "14      3227.0\n",
       "         ...  \n",
       "3811     455.0\n",
       "3813    2513.0\n",
       "3814     553.0\n",
       "3816     693.0\n",
       "3817     609.0\n",
       "Name: id, Length: 1809, dtype: float64"
      ]
     },
     "execution_count": 17,
     "metadata": {},
     "output_type": "execute_result"
    }
   ],
   "source": [
    "seatle_listings['id'][seatle_listings['weekly_price'].isnull() == True].map(id_price * 7)"
   ]
  },
  {
   "cell_type": "code",
   "execution_count": 18,
   "metadata": {},
   "outputs": [
    {
     "name": "stderr",
     "output_type": "stream",
     "text": [
      "C:\\Users\\Kaiqu\\anaconda3\\lib\\site-packages\\ipykernel_launcher.py:4: SettingWithCopyWarning: \n",
      "A value is trying to be set on a copy of a slice from a DataFrame\n",
      "\n",
      "See the caveats in the documentation: https://pandas.pydata.org/pandas-docs/stable/user_guide/indexing.html#returning-a-view-versus-a-copy\n",
      "  after removing the cwd from sys.path.\n"
     ]
    }
   ],
   "source": [
    "# Part used to add value in weekly_price column\n",
    "# I decided to follow the path in which the daily rate * 7 was selected to reach the weekly rate\n",
    "seatle_listings.loc[:, 'weekly_price'][seatle_listings['weekly_price'].isnull()] = (seatle_listings['id'][seatle_listings['weekly_price'].isnull() == True]\n",
    "                                                                                    .map(id_price * 7))"
   ]
  },
  {
   "cell_type": "markdown",
   "metadata": {},
   "source": [
    "The above process worked. In the end, we want the maximum number of values filled in, so it was the method I found most suitable to fill in the data in a \"real\" way. I'm not taking into consideration if the owner of the place can apply discounts on weekly/monthly packages.\n",
    "\n",
    "We will use the same process to fill in the monthly amounts."
   ]
  },
  {
   "cell_type": "code",
   "execution_count": 19,
   "metadata": {},
   "outputs": [
    {
     "data": {
      "text/plain": [
       "True     0.602672\n",
       "False    0.397328\n",
       "Name: monthly_price, dtype: float64"
      ]
     },
     "execution_count": 19,
     "metadata": {},
     "output_type": "execute_result"
    }
   ],
   "source": [
    "# 60% of null data, we will fill them with weekly values x4\n",
    "seatle_listings.loc[:, 'monthly_price'].isnull().value_counts(normalize = True)"
   ]
  },
  {
   "cell_type": "code",
   "execution_count": 20,
   "metadata": {},
   "outputs": [
    {
     "name": "stderr",
     "output_type": "stream",
     "text": [
      "C:\\Users\\Kaiqu\\anaconda3\\lib\\site-packages\\ipykernel_launcher.py:6: SettingWithCopyWarning: \n",
      "A value is trying to be set on a copy of a slice from a DataFrame\n",
      "\n",
      "See the caveats in the documentation: https://pandas.pydata.org/pandas-docs/stable/user_guide/indexing.html#returning-a-view-versus-a-copy\n",
      "  \n"
     ]
    }
   ],
   "source": [
    "# This part of the code may have been a little confusing, but it was the most suitable way I found to map only null values \n",
    "# and not end up overwriting already filled values\n",
    "\n",
    "wk_price = seatle_listings.groupby(['id'])['weekly_price'].sum()\n",
    "seatle_listings.loc[:, 'monthly_price'][seatle_listings['monthly_price'].isnull()] = (seatle_listings['id'][seatle_listings['monthly_price'].isnull() == True]\n",
    "                                                                                    .map(wk_price * 4))"
   ]
  },
  {
   "cell_type": "code",
   "execution_count": 21,
   "metadata": {},
   "outputs": [
    {
     "data": {
      "text/plain": [
       "False    1.0\n",
       "Name: monthly_price, dtype: float64"
      ]
     },
     "execution_count": 21,
     "metadata": {},
     "output_type": "execute_result"
    }
   ],
   "source": [
    "seatle_listings['monthly_price'].isnull().value_counts(normalize=True)"
   ]
  },
  {
   "cell_type": "code",
   "execution_count": 22,
   "metadata": {},
   "outputs": [],
   "source": [
    "# Now, moving on to our last numeric variable (of prices), for cleaning rate, the null values will be filled with 0\n",
    "\n",
    "seatle_listings['cleaning_fee'].fillna(0, inplace = True)"
   ]
  },
  {
   "cell_type": "code",
   "execution_count": 23,
   "metadata": {},
   "outputs": [
    {
     "data": {
      "text/plain": [
       "Index(['summary', 'space', 'neighborhood_overview', 'notes', 'transit',\n",
       "       'thumbnail_url', 'medium_url', 'xl_picture_url', 'host_name',\n",
       "       'host_since', 'host_location', 'host_about', 'host_response_time',\n",
       "       'host_response_rate', 'host_acceptance_rate', 'host_is_superhost',\n",
       "       'host_thumbnail_url', 'host_picture_url', 'host_neighbourhood',\n",
       "       'host_listings_count', 'host_total_listings_count',\n",
       "       'host_has_profile_pic', 'host_identity_verified', 'neighbourhood',\n",
       "       'zipcode', 'property_type', 'bathrooms', 'bedrooms', 'beds',\n",
       "       'square_feet', 'security_deposit', 'first_review', 'last_review',\n",
       "       'review_scores_rating', 'review_scores_accuracy',\n",
       "       'review_scores_cleanliness', 'review_scores_checkin',\n",
       "       'review_scores_communication', 'review_scores_location',\n",
       "       'review_scores_value', 'reviews_per_month'],\n",
       "      dtype='object')"
      ]
     },
     "execution_count": 23,
     "metadata": {},
     "output_type": "execute_result"
    }
   ],
   "source": [
    "# checking for variables that still have null values\n",
    "seatle_listings.columns[seatle_listings.isnull().mean()>0]"
   ]
  },
  {
   "cell_type": "code",
   "execution_count": 24,
   "metadata": {},
   "outputs": [
    {
     "data": {
      "text/plain": [
       "False    0.828182\n",
       "True     0.171818\n",
       "Name: review_scores_value, dtype: float64"
      ]
     },
     "execution_count": 24,
     "metadata": {},
     "output_type": "execute_result"
    }
   ],
   "source": [
    "seatle_listings['review_scores_value'].isnull().value_counts(normalize=True)"
   ]
  },
  {
   "cell_type": "code",
   "execution_count": 25,
   "metadata": {},
   "outputs": [],
   "source": [
    "# we will drop the zip codes that are not present, so we can use it as a review mapper\n",
    "seatle_listings.dropna(subset=['zipcode'], axis = 0, inplace = True)"
   ]
  },
  {
   "cell_type": "code",
   "execution_count": 26,
   "metadata": {},
   "outputs": [],
   "source": [
    "review_scores_value_per_zipcode = round(seatle_listings.groupby(['zipcode'])['review_scores_value'].mean(), 2)"
   ]
  },
  {
   "cell_type": "code",
   "execution_count": 27,
   "metadata": {},
   "outputs": [
    {
     "name": "stderr",
     "output_type": "stream",
     "text": [
      "C:\\Users\\Kaiqu\\anaconda3\\lib\\site-packages\\ipykernel_launcher.py:4: SettingWithCopyWarning: \n",
      "A value is trying to be set on a copy of a slice from a DataFrame\n",
      "\n",
      "See the caveats in the documentation: https://pandas.pydata.org/pandas-docs/stable/user_guide/indexing.html#returning-a-view-versus-a-copy\n",
      "  after removing the cwd from sys.path.\n"
     ]
    }
   ],
   "source": [
    "# Used to fill in the null values of the review_score_value variable\n",
    "# the methodology was to use the average of the evaluations of X postal code\n",
    "seatle_listings.loc[:, 'review_scores_value'][seatle_listings['review_scores_value'].isnull() == True] = (seatle_listings['zipcode']\n",
    "                                                                                                          .map(review_scores_value_per_zipcode))"
   ]
  },
  {
   "cell_type": "code",
   "execution_count": 28,
   "metadata": {},
   "outputs": [],
   "source": [
    "# variable that represents the response time, if it responds within 1 hour, 1 day, etc... We will consider it category and replace it\n",
    "# its values for numerics representing its categories (nan values will be filled in as -1)\n",
    "seatle_listings['host_response_time'] = seatle_listings['host_response_time'].astype('category').cat.codes"
   ]
  },
  {
   "cell_type": "markdown",
   "metadata": {},
   "source": [
    "#### Dropping some categorical columns."
   ]
  },
  {
   "cell_type": "markdown",
   "metadata": {},
   "source": [
    "The criteria used to drop the columns were:\n",
    "\n",
    "Columns that report the same value over and over, this hinders our future model's ability to handle generalized information,\n",
    "URL's and images. (Columns that had equal values were also removed)\n",
    "\n",
    "My first idea was to remove columns that contained more than 10 characters in their values, but I didn't follow through with this idea. I preferred to look at each column of these categories and decide which would be of greater relevance or not."
   ]
  },
  {
   "cell_type": "code",
   "execution_count": 29,
   "metadata": {},
   "outputs": [],
   "source": [
    "# selection of columns to be dropped\n",
    "cat_cols=seatle_listings.select_dtypes('object').columns"
   ]
  },
  {
   "cell_type": "code",
   "execution_count": 30,
   "metadata": {},
   "outputs": [],
   "source": [
    "drop_list = ['listing_url', 'last_scraped', 'name', 'space', 'notes', 'transit',\n",
    "            'thumbnail_url', 'medium_url', 'picture_url', 'xl_picture_url',\n",
    "            'host_url', 'host_name', 'host_since', 'host_about',\n",
    "            'host_thumbnail_url', 'host_picture_url', 'host_neighbourhood',\n",
    "            'host_has_profile_pic', 'neighbourhood', 'city', 'state', 'market', \n",
    "            'smart_location', 'country_code', 'country',\n",
    "            'has_availability', 'first_review', 'last_review', \n",
    "            'requires_license', 'jurisdiction_names', 'summary', 'host_id', 'host_acceptance_rate',\n",
    "            'id', 'scrape_id', 'host_verifications']"
   ]
  },
  {
   "cell_type": "code",
   "execution_count": 31,
   "metadata": {},
   "outputs": [
    {
     "data": {
      "text/plain": [
       "18"
      ]
     },
     "execution_count": 31,
     "metadata": {},
     "output_type": "execute_result"
    }
   ],
   "source": [
    "# in the end, we managed to balance the categorical and quantitative variables.\n",
    "len(cat_cols) - len(drop_list)"
   ]
  },
  {
   "cell_type": "code",
   "execution_count": 32,
   "metadata": {},
   "outputs": [
    {
     "data": {
      "text/plain": [
       "22"
      ]
     },
     "execution_count": 32,
     "metadata": {},
     "output_type": "execute_result"
    }
   ],
   "source": [
    "len(seatle_listings.select_dtypes('float').columns)"
   ]
  },
  {
   "cell_type": "code",
   "execution_count": 33,
   "metadata": {},
   "outputs": [],
   "source": [
    "seatle_listings.drop(drop_list, axis = 1, inplace = True)"
   ]
  },
  {
   "cell_type": "code",
   "execution_count": 34,
   "metadata": {},
   "outputs": [],
   "source": [
    "# one more correction of a column that should be numeric and was as a string\n",
    "seatle_listings['host_response_rate'] = seatle_listings['host_response_rate'].str.replace('%', '').astype('float')"
   ]
  },
  {
   "cell_type": "markdown",
   "metadata": {},
   "source": [
    "#### Extraction of words from descriptions\n"
   ]
  },
  {
   "cell_type": "markdown",
   "metadata": {},
   "source": [
    "So that we can use the neighborhood description and general information columns, I selected some keywords.<br>\n",
    "The goal is to count how many times the keywords appear, so that we have some column information to use in the future (the same methodology will be applied in the description)"
   ]
  },
  {
   "cell_type": "code",
   "execution_count": 35,
   "metadata": {},
   "outputs": [],
   "source": [
    "word_list = ['charming', 'beautifull', 'spectacular', 'cozy', 'comfortable',\n",
    "            'wondeful', 'quiet', 'view', 'close', 'gorgeous', 'pets', 'cat', 'dog',\n",
    "            'family', 'calm', 'peacefull', 'safe', 'police', 'bus', 'uber', 'taxi']"
   ]
  },
  {
   "cell_type": "code",
   "execution_count": 36,
   "metadata": {},
   "outputs": [],
   "source": [
    "# Methodology found below in stack overflow\n",
    "# Link: https://stackoverflow.com/questions/62619082/check-if-column-in-data-frame-contain-any-word-from-a-list-adding-count-pytho\n",
    "search = re.compile(\"\\\\b%s\\\\b\" % \"\\\\b|\\\\b\".join(word_list), flags = re.IGNORECASE)"
   ]
  },
  {
   "cell_type": "code",
   "execution_count": 37,
   "metadata": {},
   "outputs": [
    {
     "name": "stderr",
     "output_type": "stream",
     "text": [
      "C:\\Users\\Kaiqu\\anaconda3\\lib\\site-packages\\ipykernel_launcher.py:4: SettingWithCopyWarning: \n",
      "A value is trying to be set on a copy of a slice from a DataFrame\n",
      "\n",
      "See the caveats in the documentation: https://pandas.pydata.org/pandas-docs/stable/user_guide/indexing.html#returning-a-view-versus-a-copy\n",
      "  after removing the cwd from sys.path.\n"
     ]
    }
   ],
   "source": [
    "seatle_listings['description'] = seatle_listings['description'].str.findall(search).apply(len)\n",
    "# let's give a fillna with the value 0 in the neighborhood overview variable, because since we're going to make it numeric, the 0 will fill the nan values\n",
    "seatle_listings.loc[:, 'neighborhood_overview'][seatle_listings['neighborhood_overview'].isnull()==False] = (\n",
    "    seatle_listings.loc[:, 'neighborhood_overview'][seatle_listings['neighborhood_overview'].isnull()==False].str.findall(search).apply(len))"
   ]
  },
  {
   "cell_type": "code",
   "execution_count": 38,
   "metadata": {},
   "outputs": [],
   "source": [
    "seatle_listings['neighborhood_overview'].fillna(int(0), inplace = True)\n",
    "seatle_listings['neighborhood_overview'] = seatle_listings['neighborhood_overview'].astype('int')"
   ]
  },
  {
   "cell_type": "code",
   "execution_count": 39,
   "metadata": {},
   "outputs": [],
   "source": [
    "# hosts that have no response time will be classified as 0 time as well.\n",
    "seatle_listings['host_response_rate'].fillna(0, inplace =True)"
   ]
  },
  {
   "cell_type": "code",
   "execution_count": 40,
   "metadata": {},
   "outputs": [
    {
     "data": {
      "text/plain": [
       "description                         0.000000\n",
       "neighborhood_overview               0.000000\n",
       "host_location                       0.002099\n",
       "host_response_time                  0.000000\n",
       "host_response_rate                  0.000000\n",
       "host_is_superhost                   0.000525\n",
       "host_listings_count                 0.000525\n",
       "host_total_listings_count           0.000525\n",
       "host_identity_verified              0.000525\n",
       "street                              0.000000\n",
       "neighbourhood_cleansed              0.000000\n",
       "neighbourhood_group_cleansed        0.000000\n",
       "zipcode                             0.000000\n",
       "latitude                            0.000000\n",
       "longitude                           0.000000\n",
       "is_location_exact                   0.000000\n",
       "property_type                       0.000262\n",
       "room_type                           0.000000\n",
       "accommodates                        0.000000\n",
       "bathrooms                           0.004198\n",
       "bedrooms                            0.001574\n",
       "beds                                0.000262\n",
       "bed_type                            0.000000\n",
       "amenities                           0.000000\n",
       "square_feet                         0.974810\n",
       "price                               0.000000\n",
       "weekly_price                        0.000000\n",
       "monthly_price                       0.000000\n",
       "security_deposit                    0.510890\n",
       "cleaning_fee                        0.000000\n",
       "guests_included                     0.000000\n",
       "extra_people                        0.000000\n",
       "minimum_nights                      0.000000\n",
       "maximum_nights                      0.000000\n",
       "calendar_updated                    0.000000\n",
       "availability_30                     0.000000\n",
       "availability_60                     0.000000\n",
       "availability_90                     0.000000\n",
       "availability_365                    0.000000\n",
       "calendar_last_scraped               0.000000\n",
       "number_of_reviews                   0.000000\n",
       "review_scores_rating                0.169509\n",
       "review_scores_accuracy              0.172396\n",
       "review_scores_cleanliness           0.171084\n",
       "review_scores_checkin               0.172396\n",
       "review_scores_communication         0.170559\n",
       "review_scores_location              0.171609\n",
       "review_scores_value                 0.000000\n",
       "instant_bookable                    0.000000\n",
       "cancellation_policy                 0.000000\n",
       "require_guest_profile_picture       0.000000\n",
       "require_guest_phone_verification    0.000000\n",
       "calculated_host_listings_count      0.000000\n",
       "reviews_per_month                   0.164261\n",
       "dtype: float64"
      ]
     },
     "execution_count": 40,
     "metadata": {},
     "output_type": "execute_result"
    }
   ],
   "source": [
    "# check for columns that still have nulls.\n",
    "seatle_listings.isnull().mean()"
   ]
  },
  {
   "cell_type": "code",
   "execution_count": 41,
   "metadata": {},
   "outputs": [],
   "source": [
    "# columns that have a small value of nuls\n",
    "seatle_listings.dropna(subset = ['host_location', 'host_is_superhost', 'host_listings_count', 'host_total_listings_count'], axis = 0, inplace = True)\n",
    "seatle_listings.dropna(subset = ['beds', 'bathrooms', 'bathrooms', 'bedrooms'], axis = 0, inplace = True)"
   ]
  },
  {
   "cell_type": "code",
   "execution_count": 42,
   "metadata": {},
   "outputs": [],
   "source": [
    "# column has 97% of its value as null, cant fill it with anything\n",
    "seatle_listings.drop(columns='square_feet', inplace = True)"
   ]
  },
  {
   "cell_type": "code",
   "execution_count": 43,
   "metadata": {},
   "outputs": [],
   "source": [
    "# those who have not received evaluations or who do not charge amounts in advance will be filled in with 0\n",
    "seatle_listings['reviews_per_month'].fillna(0, inplace = True)\n",
    "seatle_listings['security_deposit'].fillna(0, inplace = True)"
   ]
  },
  {
   "cell_type": "code",
   "execution_count": 44,
   "metadata": {},
   "outputs": [
    {
     "data": {
      "text/html": [
       "<div>\n",
       "<style scoped>\n",
       "    .dataframe tbody tr th:only-of-type {\n",
       "        vertical-align: middle;\n",
       "    }\n",
       "\n",
       "    .dataframe tbody tr th {\n",
       "        vertical-align: top;\n",
       "    }\n",
       "\n",
       "    .dataframe thead th {\n",
       "        text-align: right;\n",
       "    }\n",
       "</style>\n",
       "<table border=\"1\" class=\"dataframe\">\n",
       "  <thead>\n",
       "    <tr style=\"text-align: right;\">\n",
       "      <th></th>\n",
       "      <th>review_scores_rating</th>\n",
       "      <th>review_scores_accuracy</th>\n",
       "      <th>review_scores_cleanliness</th>\n",
       "      <th>review_scores_checkin</th>\n",
       "      <th>review_scores_communication</th>\n",
       "      <th>review_scores_location</th>\n",
       "    </tr>\n",
       "  </thead>\n",
       "  <tbody>\n",
       "    <tr>\n",
       "      <th>0</th>\n",
       "      <td>95.0</td>\n",
       "      <td>10.0</td>\n",
       "      <td>10.0</td>\n",
       "      <td>10.0</td>\n",
       "      <td>10.0</td>\n",
       "      <td>9.0</td>\n",
       "    </tr>\n",
       "    <tr>\n",
       "      <th>1</th>\n",
       "      <td>96.0</td>\n",
       "      <td>10.0</td>\n",
       "      <td>10.0</td>\n",
       "      <td>10.0</td>\n",
       "      <td>10.0</td>\n",
       "      <td>10.0</td>\n",
       "    </tr>\n",
       "    <tr>\n",
       "      <th>2</th>\n",
       "      <td>97.0</td>\n",
       "      <td>10.0</td>\n",
       "      <td>10.0</td>\n",
       "      <td>10.0</td>\n",
       "      <td>10.0</td>\n",
       "      <td>10.0</td>\n",
       "    </tr>\n",
       "    <tr>\n",
       "      <th>3</th>\n",
       "      <td>NaN</td>\n",
       "      <td>NaN</td>\n",
       "      <td>NaN</td>\n",
       "      <td>NaN</td>\n",
       "      <td>NaN</td>\n",
       "      <td>NaN</td>\n",
       "    </tr>\n",
       "    <tr>\n",
       "      <th>4</th>\n",
       "      <td>92.0</td>\n",
       "      <td>9.0</td>\n",
       "      <td>9.0</td>\n",
       "      <td>10.0</td>\n",
       "      <td>10.0</td>\n",
       "      <td>9.0</td>\n",
       "    </tr>\n",
       "    <tr>\n",
       "      <th>...</th>\n",
       "      <td>...</td>\n",
       "      <td>...</td>\n",
       "      <td>...</td>\n",
       "      <td>...</td>\n",
       "      <td>...</td>\n",
       "      <td>...</td>\n",
       "    </tr>\n",
       "    <tr>\n",
       "      <th>3813</th>\n",
       "      <td>80.0</td>\n",
       "      <td>8.0</td>\n",
       "      <td>10.0</td>\n",
       "      <td>4.0</td>\n",
       "      <td>8.0</td>\n",
       "      <td>10.0</td>\n",
       "    </tr>\n",
       "    <tr>\n",
       "      <th>3814</th>\n",
       "      <td>100.0</td>\n",
       "      <td>10.0</td>\n",
       "      <td>10.0</td>\n",
       "      <td>10.0</td>\n",
       "      <td>10.0</td>\n",
       "      <td>10.0</td>\n",
       "    </tr>\n",
       "    <tr>\n",
       "      <th>3815</th>\n",
       "      <td>NaN</td>\n",
       "      <td>NaN</td>\n",
       "      <td>NaN</td>\n",
       "      <td>NaN</td>\n",
       "      <td>NaN</td>\n",
       "      <td>NaN</td>\n",
       "    </tr>\n",
       "    <tr>\n",
       "      <th>3816</th>\n",
       "      <td>NaN</td>\n",
       "      <td>NaN</td>\n",
       "      <td>NaN</td>\n",
       "      <td>NaN</td>\n",
       "      <td>NaN</td>\n",
       "      <td>NaN</td>\n",
       "    </tr>\n",
       "    <tr>\n",
       "      <th>3817</th>\n",
       "      <td>NaN</td>\n",
       "      <td>NaN</td>\n",
       "      <td>NaN</td>\n",
       "      <td>NaN</td>\n",
       "      <td>NaN</td>\n",
       "      <td>NaN</td>\n",
       "    </tr>\n",
       "  </tbody>\n",
       "</table>\n",
       "<p>3781 rows × 6 columns</p>\n",
       "</div>"
      ],
      "text/plain": [
       "      review_scores_rating  review_scores_accuracy  review_scores_cleanliness  \\\n",
       "0                     95.0                    10.0                       10.0   \n",
       "1                     96.0                    10.0                       10.0   \n",
       "2                     97.0                    10.0                       10.0   \n",
       "3                      NaN                     NaN                        NaN   \n",
       "4                     92.0                     9.0                        9.0   \n",
       "...                    ...                     ...                        ...   \n",
       "3813                  80.0                     8.0                       10.0   \n",
       "3814                 100.0                    10.0                       10.0   \n",
       "3815                   NaN                     NaN                        NaN   \n",
       "3816                   NaN                     NaN                        NaN   \n",
       "3817                   NaN                     NaN                        NaN   \n",
       "\n",
       "      review_scores_checkin  review_scores_communication  \\\n",
       "0                      10.0                         10.0   \n",
       "1                      10.0                         10.0   \n",
       "2                      10.0                         10.0   \n",
       "3                       NaN                          NaN   \n",
       "4                      10.0                         10.0   \n",
       "...                     ...                          ...   \n",
       "3813                    4.0                          8.0   \n",
       "3814                   10.0                         10.0   \n",
       "3815                    NaN                          NaN   \n",
       "3816                    NaN                          NaN   \n",
       "3817                    NaN                          NaN   \n",
       "\n",
       "      review_scores_location  \n",
       "0                        9.0  \n",
       "1                       10.0  \n",
       "2                       10.0  \n",
       "3                        NaN  \n",
       "4                        9.0  \n",
       "...                      ...  \n",
       "3813                    10.0  \n",
       "3814                    10.0  \n",
       "3815                     NaN  \n",
       "3816                     NaN  \n",
       "3817                     NaN  \n",
       "\n",
       "[3781 rows x 6 columns]"
      ]
     },
     "execution_count": 44,
     "metadata": {},
     "output_type": "execute_result"
    }
   ],
   "source": [
    "# I cannot replace any of these values, nor fill them in, as they are important assessments, so we will drop the nulls\n",
    "seatle_listings[['review_scores_rating', 'review_scores_accuracy', 'review_scores_cleanliness', \n",
    "                 'review_scores_checkin', 'review_scores_communication', 'review_scores_location']]"
   ]
  },
  {
   "cell_type": "code",
   "execution_count": 45,
   "metadata": {},
   "outputs": [],
   "source": [
    "seatle_listings.dropna(axis = 0, how = 'any', inplace = True)"
   ]
  },
  {
   "cell_type": "markdown",
   "metadata": {},
   "source": [
    "#### Street extraction"
   ]
  },
  {
   "cell_type": "code",
   "execution_count": 46,
   "metadata": {},
   "outputs": [],
   "source": [
    "# first of all, let's reset the index\n",
    "# As street names are allocated in the first part of the sentence, we will only consider this part as the street name.\n",
    "seatle_listings.reset_index(inplace = True, drop=True)\n",
    "seatle_listings['street'] = seatle_listings['street'].str.rsplit(',').str[0]"
   ]
  },
  {
   "cell_type": "code",
   "execution_count": 47,
   "metadata": {},
   "outputs": [],
   "source": [
    "# CEP = Zipcode\n",
    "cep=seatle_listings['zipcode'].unique()[10]"
   ]
  },
  {
   "cell_type": "code",
   "execution_count": 48,
   "metadata": {},
   "outputs": [
    {
     "data": {
      "text/html": [
       "<div>\n",
       "<style scoped>\n",
       "    .dataframe tbody tr th:only-of-type {\n",
       "        vertical-align: middle;\n",
       "    }\n",
       "\n",
       "    .dataframe tbody tr th {\n",
       "        vertical-align: top;\n",
       "    }\n",
       "\n",
       "    .dataframe thead th {\n",
       "        text-align: right;\n",
       "    }\n",
       "</style>\n",
       "<table border=\"1\" class=\"dataframe\">\n",
       "  <thead>\n",
       "    <tr style=\"text-align: right;\">\n",
       "      <th></th>\n",
       "      <th>description</th>\n",
       "      <th>neighborhood_overview</th>\n",
       "      <th>host_location</th>\n",
       "      <th>host_response_time</th>\n",
       "      <th>host_response_rate</th>\n",
       "      <th>host_is_superhost</th>\n",
       "      <th>host_listings_count</th>\n",
       "      <th>host_total_listings_count</th>\n",
       "      <th>host_identity_verified</th>\n",
       "      <th>street</th>\n",
       "      <th>...</th>\n",
       "      <th>review_scores_checkin</th>\n",
       "      <th>review_scores_communication</th>\n",
       "      <th>review_scores_location</th>\n",
       "      <th>review_scores_value</th>\n",
       "      <th>instant_bookable</th>\n",
       "      <th>cancellation_policy</th>\n",
       "      <th>require_guest_profile_picture</th>\n",
       "      <th>require_guest_phone_verification</th>\n",
       "      <th>calculated_host_listings_count</th>\n",
       "      <th>reviews_per_month</th>\n",
       "    </tr>\n",
       "  </thead>\n",
       "  <tbody>\n",
       "    <tr>\n",
       "      <th>715</th>\n",
       "      <td>1</td>\n",
       "      <td>0</td>\n",
       "      <td>US</td>\n",
       "      <td>1</td>\n",
       "      <td>60.0</td>\n",
       "      <td>f</td>\n",
       "      <td>3.0</td>\n",
       "      <td>3.0</td>\n",
       "      <td>t</td>\n",
       "      <td>14th Ave</td>\n",
       "      <td>...</td>\n",
       "      <td>10.0</td>\n",
       "      <td>10.0</td>\n",
       "      <td>10.0</td>\n",
       "      <td>10.0</td>\n",
       "      <td>f</td>\n",
       "      <td>flexible</td>\n",
       "      <td>f</td>\n",
       "      <td>f</td>\n",
       "      <td>3</td>\n",
       "      <td>1.0</td>\n",
       "    </tr>\n",
       "  </tbody>\n",
       "</table>\n",
       "<p>1 rows × 53 columns</p>\n",
       "</div>"
      ],
      "text/plain": [
       "     description  neighborhood_overview host_location  host_response_time  \\\n",
       "715            1                      0            US                   1   \n",
       "\n",
       "     host_response_rate host_is_superhost  host_listings_count  \\\n",
       "715                60.0                 f                  3.0   \n",
       "\n",
       "     host_total_listings_count host_identity_verified    street  ...  \\\n",
       "715                        3.0                      t  14th Ave  ...   \n",
       "\n",
       "    review_scores_checkin review_scores_communication review_scores_location  \\\n",
       "715                  10.0                        10.0                   10.0   \n",
       "\n",
       "     review_scores_value  instant_bookable cancellation_policy  \\\n",
       "715                 10.0                 f            flexible   \n",
       "\n",
       "    require_guest_profile_picture require_guest_phone_verification  \\\n",
       "715                             f                                f   \n",
       "\n",
       "     calculated_host_listings_count  reviews_per_month  \n",
       "715                               3                1.0  \n",
       "\n",
       "[1 rows x 53 columns]"
      ]
     },
     "execution_count": 48,
     "metadata": {},
     "output_type": "execute_result"
    }
   ],
   "source": [
    "# correcting strange zip code\n",
    "seatle_listings.query('zipcode in @cep')"
   ]
  },
  {
   "cell_type": "code",
   "execution_count": 49,
   "metadata": {},
   "outputs": [],
   "source": [
    "seatle_listings.loc[715, 'zipcode'] = seatle_listings.loc[715, 'zipcode'][3:]"
   ]
  },
  {
   "cell_type": "markdown",
   "metadata": {},
   "source": [
    "# Part V: Evaluation of the results"
   ]
  },
  {
   "cell_type": "markdown",
   "metadata": {},
   "source": [
    "## Performance verification"
   ]
  },
  {
   "cell_type": "markdown",
   "metadata": {},
   "source": [
    "### Which streets have the highest allocation prices?\n",
    "\n",
    "To answer this question, we will proceed with a groupby street and select the average price. We will treat the first 10 streets with the highest prices so that in other views we can identify (based on the selected methodologies) if the more expensive ones have more ratings, etc..."
   ]
  },
  {
   "cell_type": "code",
   "execution_count": 50,
   "metadata": {},
   "outputs": [],
   "source": [
    "mean_street_price = seatle_listings.groupby(['street'])['price'].mean().sort_values(ascending = False).head(10)"
   ]
  },
  {
   "cell_type": "code",
   "execution_count": 51,
   "metadata": {},
   "outputs": [
    {
     "data": {
      "image/png": "[encoded data removed]",
      "text/plain": [
       "<Figure size 1080x360 with 1 Axes>"
      ]
     },
     "metadata": {},
     "output_type": "display_data"
    }
   ],
   "source": [
    "ax = mean_street_price.sort_values(ascending = True).plot(kind = 'barh', figsize = (15,5))\n",
    "ax.set_ylabel('')\n",
    "ax.set_title('Streets with the highest average allocation price', fontsize = 13)\n",
    "ax.set_xlabel('Average allocation price', fontsize = 13);"
   ]
  },
  {
   "cell_type": "markdown",
   "metadata": {},
   "source": [
    "### Which streets used the keywords the most?\n",
    "\n",
    "\n",
    "As I determined when dealing with the data, some keywords were selected and the count in which they appear in the descriptions was added, so we will use this to check the streets that most used these keywords."
   ]
  },
  {
   "cell_type": "code",
   "execution_count": 52,
   "metadata": {},
   "outputs": [],
   "source": [
    "street_key_word = seatle_listings.groupby(['street'])['description'].sum().sort_values(ascending = False).head(10)"
   ]
  },
  {
   "cell_type": "code",
   "execution_count": 53,
   "metadata": {},
   "outputs": [
    {
     "data": {
      "image/png": "[encoded data removed]",
      "text/plain": [
       "<Figure size 1080x360 with 1 Axes>"
      ]
     },
     "metadata": {},
     "output_type": "display_data"
    }
   ],
   "source": [
    "ax = street_key_word.sort_values(ascending=True).plot(kind='barh', figsize=(15,5))\n",
    "ax.set_ylabel('')\n",
    "ax.set_title('Use of select keywords', fontsize = 13)\n",
    "ax.set_xlabel('Amount of keyword appearances', fontsize = 13);"
   ]
  },
  {
   "cell_type": "markdown",
   "metadata": {},
   "source": [
    "### Which streets have the highest ratings counts?\n",
    "\n",
    "Based on the previous view, my idea is to check if the streets with the highest average price have the highest amounts of user reviews as well, and possibly justifying the high prices due to high rental demand."
   ]
  },
  {
   "cell_type": "code",
   "execution_count": 54,
   "metadata": {},
   "outputs": [],
   "source": [
    "evaluation_count = seatle_listings.groupby('street')['review_scores_value'].count().sort_values(ascending = False).head(10)"
   ]
  },
  {
   "cell_type": "code",
   "execution_count": 55,
   "metadata": {},
   "outputs": [
    {
     "data": {
      "image/png": "[encoded data removed]",
      "text/plain": [
       "<Figure size 1080x360 with 1 Axes>"
      ]
     },
     "metadata": {},
     "output_type": "display_data"
    }
   ],
   "source": [
    "ax = evaluation_count.sort_values(ascending = True).plot(kind ='barh', figsize=(15,5))\n",
    "ax.set_ylabel('')\n",
    "ax.set_title('Streets with the highest ratings counts', fontsize = 13)\n",
    "ax.set_xlabel('Evaluation count', fontsize = 13);"
   ]
  },
  {
   "cell_type": "markdown",
   "metadata": {},
   "source": [
    "And as a result we can see that in fact, the streets that most used the selected keywords are the ones that have the most ratings (at least the majority), and not the ones that have the highest prices."
   ]
  },
  {
   "cell_type": "markdown",
   "metadata": {},
   "source": [
    "### What is the average amount charged by property type?\n",
    "\n",
    "The intention of this visualization is to take a base of how much is charged on average per type of residence"
   ]
  },
  {
   "cell_type": "code",
   "execution_count": 56,
   "metadata": {},
   "outputs": [],
   "source": [
    "property_charge_mean = seatle_listings.groupby(['property_type'])['price'].mean().sort_values()"
   ]
  },
  {
   "cell_type": "code",
   "execution_count": 57,
   "metadata": {},
   "outputs": [
    {
     "data": {
      "image/png": "[encoded data removed]",
      "text/plain": [
       "<Figure size 1080x360 with 1 Axes>"
      ]
     },
     "metadata": {},
     "output_type": "display_data"
    }
   ],
   "source": [
    "ax = property_charge_mean.sort_values(ascending = True).plot(kind='barh', figsize=(15,5))\n",
    "ax.set_title('Average price by property type', fontsize=13)\n",
    "ax.set_ylabel('')\n",
    "ax.set_xlabel('Price average', fontsize=13);"
   ]
  },
  {
   "cell_type": "markdown",
   "metadata": {},
   "source": [
    "### Which properties have the most reviews?"
   ]
  },
  {
   "cell_type": "code",
   "execution_count": 58,
   "metadata": {},
   "outputs": [],
   "source": [
    "property_review_count = seatle_listings.groupby(['property_type'])['review_scores_value'].count().sort_values(ascending = True)"
   ]
  },
  {
   "cell_type": "code",
   "execution_count": 59,
   "metadata": {},
   "outputs": [
    {
     "data": {
      "text/plain": [
       "<matplotlib.axes._subplots.AxesSubplot at 0x279471c9308>"
      ]
     },
     "execution_count": 59,
     "metadata": {},
     "output_type": "execute_result"
    },
    {
     "data": {
      "image/png": "[encoded data removed]",
      "text/plain": [
       "<Figure size 1080x360 with 1 Axes>"
      ]
     },
     "metadata": {},
     "output_type": "display_data"
    }
   ],
   "source": [
    "property_review_count.plot(kind = 'barh', figsize=(15,5))"
   ]
  },
  {
   "cell_type": "markdown",
   "metadata": {},
   "source": [
    "## Linear model instantiation"
   ]
  },
  {
   "cell_type": "markdown",
   "metadata": {},
   "source": [
    "#### Test I::\n",
    "Verification of model metrics without data stratification"
   ]
  },
  {
   "cell_type": "code",
   "execution_count": 60,
   "metadata": {},
   "outputs": [],
   "source": [
    "#part of the code used to acquire the dummies of our categorical variables\n",
    "\n",
    "new_cat_cols = seatle_listings.select_dtypes('object').columns\n",
    "for col in new_cat_cols:\n",
    "    seatle_listings = pd.concat([seatle_listings.drop(col, axis = 1), pd.get_dummies(seatle_listings[col], drop_first=True, prefix=col)], axis = 1) "
   ]
  },
  {
   "cell_type": "code",
   "execution_count": 61,
   "metadata": {},
   "outputs": [],
   "source": [
    "linear = LinearRegression(normalize=True)\n",
    "ridgecv = RidgeCV(normalize=True)\n",
    "sgd = SGDRegressor()\n",
    "ridge = Ridge()"
   ]
  },
  {
   "cell_type": "code",
   "execution_count": 62,
   "metadata": {},
   "outputs": [],
   "source": [
    "X = seatle_listings.drop('price', axis = 1)\n",
    "y = seatle_listings['price']"
   ]
  },
  {
   "cell_type": "code",
   "execution_count": 63,
   "metadata": {},
   "outputs": [],
   "source": [
    "# separation of our data for training and testing\n",
    "\n",
    "X_train, X_test, y_train, y_test = train_test_split(X, y, test_size=0.3, random_state=42)"
   ]
  },
  {
   "cell_type": "code",
   "execution_count": 64,
   "metadata": {},
   "outputs": [
    {
     "name": "stdout",
     "output_type": "stream",
     "text": [
      "R2 Score: -2.2614168658872584e+23, R2 train score: 0.998519551834112, mean_squared_error: 1.8085687096697715e+27\n"
     ]
    }
   ],
   "source": [
    "model_testing(linear)"
   ]
  },
  {
   "cell_type": "code",
   "execution_count": 65,
   "metadata": {},
   "outputs": [
    {
     "name": "stdout",
     "output_type": "stream",
     "text": [
      "R2 Score: 0.8376787346266902, R2 train score: 0.9925329015615978, mean_squared_error: 1298.164729805315\n"
     ]
    }
   ],
   "source": [
    "model_testing(ridgecv)"
   ]
  },
  {
   "cell_type": "code",
   "execution_count": 66,
   "metadata": {},
   "outputs": [
    {
     "name": "stdout",
     "output_type": "stream",
     "text": [
      "R2 Score: -6.72019858091798e+26, R2 train score: -4.076212058909751e+27, mean_squared_error: 5.374480512440552e+30\n"
     ]
    }
   ],
   "source": [
    "model_testing(sgd)"
   ]
  },
  {
   "cell_type": "code",
   "execution_count": 67,
   "metadata": {},
   "outputs": [
    {
     "name": "stdout",
     "output_type": "stream",
     "text": [
      "R2 Score: 0.9397725711445206, R2 train score: 0.9881932587489705, mean_squared_error: 481.6690143908779\n"
     ]
    }
   ],
   "source": [
    "model_testing(ridge)"
   ]
  },
  {
   "cell_type": "markdown",
   "metadata": {},
   "source": [
    "The model that uses light stratification did a little better, so I will stratify the data and then instantiate the model"
   ]
  },
  {
   "cell_type": "markdown",
   "metadata": {},
   "source": [
    "#### Test II: \n",
    "Stratified data\n"
   ]
  },
  {
   "cell_type": "code",
   "execution_count": 68,
   "metadata": {},
   "outputs": [
    {
     "data": {
      "text/plain": [
       "50"
      ]
     },
     "execution_count": 68,
     "metadata": {},
     "output_type": "execute_result"
    }
   ],
   "source": [
    "cv = RepeatedStratifiedKFold()\n",
    "cv.get_n_splits(X,y)"
   ]
  },
  {
   "cell_type": "code",
   "execution_count": 69,
   "metadata": {},
   "outputs": [
    {
     "name": "stderr",
     "output_type": "stream",
     "text": [
      "C:\\Users\\Kaiqu\\anaconda3\\lib\\site-packages\\sklearn\\model_selection\\_split.py:667: UserWarning: The least populated class in y has only 1 members, which is less than n_splits=5.\n",
      "  % (min_groups, self.n_splits)), UserWarning)\n",
      "C:\\Users\\Kaiqu\\anaconda3\\lib\\site-packages\\sklearn\\model_selection\\_split.py:667: UserWarning: The least populated class in y has only 1 members, which is less than n_splits=5.\n",
      "  % (min_groups, self.n_splits)), UserWarning)\n",
      "C:\\Users\\Kaiqu\\anaconda3\\lib\\site-packages\\sklearn\\model_selection\\_split.py:667: UserWarning: The least populated class in y has only 1 members, which is less than n_splits=5.\n",
      "  % (min_groups, self.n_splits)), UserWarning)\n",
      "C:\\Users\\Kaiqu\\anaconda3\\lib\\site-packages\\sklearn\\model_selection\\_split.py:667: UserWarning: The least populated class in y has only 1 members, which is less than n_splits=5.\n",
      "  % (min_groups, self.n_splits)), UserWarning)\n",
      "C:\\Users\\Kaiqu\\anaconda3\\lib\\site-packages\\sklearn\\model_selection\\_split.py:667: UserWarning: The least populated class in y has only 1 members, which is less than n_splits=5.\n",
      "  % (min_groups, self.n_splits)), UserWarning)\n",
      "C:\\Users\\Kaiqu\\anaconda3\\lib\\site-packages\\sklearn\\model_selection\\_split.py:667: UserWarning: The least populated class in y has only 1 members, which is less than n_splits=5.\n",
      "  % (min_groups, self.n_splits)), UserWarning)\n",
      "C:\\Users\\Kaiqu\\anaconda3\\lib\\site-packages\\sklearn\\model_selection\\_split.py:667: UserWarning: The least populated class in y has only 1 members, which is less than n_splits=5.\n",
      "  % (min_groups, self.n_splits)), UserWarning)\n",
      "C:\\Users\\Kaiqu\\anaconda3\\lib\\site-packages\\sklearn\\model_selection\\_split.py:667: UserWarning: The least populated class in y has only 1 members, which is less than n_splits=5.\n",
      "  % (min_groups, self.n_splits)), UserWarning)\n",
      "C:\\Users\\Kaiqu\\anaconda3\\lib\\site-packages\\sklearn\\model_selection\\_split.py:667: UserWarning: The least populated class in y has only 1 members, which is less than n_splits=5.\n",
      "  % (min_groups, self.n_splits)), UserWarning)\n",
      "C:\\Users\\Kaiqu\\anaconda3\\lib\\site-packages\\sklearn\\model_selection\\_split.py:667: UserWarning: The least populated class in y has only 1 members, which is less than n_splits=5.\n",
      "  % (min_groups, self.n_splits)), UserWarning)\n"
     ]
    }
   ],
   "source": [
    "for train_index, test_index in cv.split(X, y):\n",
    "    X_train, X_test = X.T[train_index], X.T[test_index]\n",
    "    y_train, y_test = y[train_index], y[test_index]"
   ]
  },
  {
   "cell_type": "code",
   "execution_count": 70,
   "metadata": {},
   "outputs": [],
   "source": [
    "X_train, X_test = X_train.T, X_test.T"
   ]
  },
  {
   "cell_type": "code",
   "execution_count": 71,
   "metadata": {},
   "outputs": [],
   "source": [
    "linear = LinearRegression(normalize=True)\n",
    "ridgecv = RidgeCV(normalize=True)\n",
    "sgd = SGDRegressor()\n",
    "ridge = Ridge()"
   ]
  },
  {
   "cell_type": "code",
   "execution_count": 72,
   "metadata": {},
   "outputs": [
    {
     "name": "stdout",
     "output_type": "stream",
     "text": [
      "R2 Score: -1.0652988397548657e+24, R2 train score: 0.9933919030180484, mean_squared_error: 8.299872319917387e+27\n"
     ]
    }
   ],
   "source": [
    "model_testing(linear)"
   ]
  },
  {
   "cell_type": "code",
   "execution_count": 73,
   "metadata": {},
   "outputs": [
    {
     "name": "stdout",
     "output_type": "stream",
     "text": [
      "R2 Score: 0.8316849550763882, R2 train score: 0.9927559307787094, mean_squared_error: 1311.3629061199365\n"
     ]
    }
   ],
   "source": [
    "model_testing(ridgecv)"
   ]
  },
  {
   "cell_type": "code",
   "execution_count": 74,
   "metadata": {},
   "outputs": [
    {
     "name": "stdout",
     "output_type": "stream",
     "text": [
      "R2 Score: -1.732456185659657e+26, R2 train score: -5.238867289697947e+26, mean_squared_error: 1.3497776026992586e+30\n"
     ]
    }
   ],
   "source": [
    "model_testing(sgd)"
   ]
  },
  {
   "cell_type": "code",
   "execution_count": 75,
   "metadata": {},
   "outputs": [
    {
     "name": "stdout",
     "output_type": "stream",
     "text": [
      "R2 Score: 0.9473218094776366, R2 train score: 0.9877240018284238, mean_squared_error: 410.42216424501794\n"
     ]
    }
   ],
   "source": [
    "model_testing(ridge)"
   ]
  },
  {
   "cell_type": "markdown",
   "metadata": {},
   "source": [
    "Checking the distribution of our y variable, it is left asymmetric.<br>\n",
    "So to try to leave it with a normal distribution, I will use its logarithm."
   ]
  },
  {
   "cell_type": "markdown",
   "metadata": {},
   "source": [
    "#### Test III:\n",
    "Use of logarithm of variable y to acquire a normal distribution"
   ]
  },
  {
   "cell_type": "code",
   "execution_count": 76,
   "metadata": {},
   "outputs": [
    {
     "data": {
      "text/plain": [
       "<matplotlib.axes._subplots.AxesSubplot at 0x2794722ac88>"
      ]
     },
     "execution_count": 76,
     "metadata": {},
     "output_type": "execute_result"
    },
    {
     "data": {
      "image/png": "[encoded data removed]",
      "text/plain": [
       "<Figure size 432x288 with 1 Axes>"
      ]
     },
     "metadata": {},
     "output_type": "display_data"
    }
   ],
   "source": [
    "y.hist()"
   ]
  },
  {
   "cell_type": "code",
   "execution_count": 77,
   "metadata": {},
   "outputs": [
    {
     "data": {
      "text/plain": [
       "<matplotlib.axes._subplots.AxesSubplot at 0x2794728d348>"
      ]
     },
     "execution_count": 77,
     "metadata": {},
     "output_type": "execute_result"
    },
    {
     "data": {
      "image/png": "[encoded data removed]",
      "text/plain": [
       "<Figure size 432x288 with 1 Axes>"
      ]
     },
     "metadata": {},
     "output_type": "display_data"
    }
   ],
   "source": [
    "# to revert to its original state, just use np.exp()\n",
    "y_log = np.log(y)\n",
    "y_log.hist()"
   ]
  },
  {
   "cell_type": "code",
   "execution_count": 78,
   "metadata": {},
   "outputs": [],
   "source": [
    "X_train, X_test, y_train, y_test = train_test_split(X, y_log, test_size=0.3, random_state=42)\n",
    "\n",
    "linear = LinearRegression(normalize=True)\n",
    "ridgecv = RidgeCV(normalize=True)\n",
    "sgd = SGDRegressor()\n",
    "ridge = Ridge()"
   ]
  },
  {
   "cell_type": "code",
   "execution_count": 79,
   "metadata": {},
   "outputs": [
    {
     "name": "stdout",
     "output_type": "stream",
     "text": [
      "R2 Score: -4.211979988711582e+23, R2 train score: 0.9971553614859504, mean_squared_error: 1.30698771622944e+23\n"
     ]
    }
   ],
   "source": [
    "model_testing(linear)"
   ]
  },
  {
   "cell_type": "code",
   "execution_count": 80,
   "metadata": {},
   "outputs": [
    {
     "name": "stdout",
     "output_type": "stream",
     "text": [
      "R2 Score: 0.7989374210380171, R2 train score: 0.996190640592043, mean_squared_error: 0.062390211159837\n"
     ]
    }
   ],
   "source": [
    "model_testing(ridgecv)"
   ]
  },
  {
   "cell_type": "code",
   "execution_count": 81,
   "metadata": {},
   "outputs": [
    {
     "name": "stdout",
     "output_type": "stream",
     "text": [
      "R2 Score: -8.402775754076422e+30, R2 train score: -1.8051971746610008e+31, mean_squared_error: 2.607401916020945e+30\n"
     ]
    }
   ],
   "source": [
    "model_testing(sgd)"
   ]
  },
  {
   "cell_type": "code",
   "execution_count": 82,
   "metadata": {},
   "outputs": [
    {
     "name": "stdout",
     "output_type": "stream",
     "text": [
      "R2 Score: 0.8693280173635368, R2 train score: 0.9796807514732234, mean_squared_error: 0.0405478365564236\n"
     ]
    }
   ],
   "source": [
    "model_testing(ridge)"
   ]
  },
  {
   "cell_type": "markdown",
   "metadata": {},
   "source": [
    "The models performed a little better, I will test with stratified data now to see if there is any improvement"
   ]
  },
  {
   "cell_type": "markdown",
   "metadata": {},
   "source": [
    "#### Teste IV: \n",
    "Using logarithm and stratified data"
   ]
  },
  {
   "cell_type": "code",
   "execution_count": 83,
   "metadata": {},
   "outputs": [
    {
     "name": "stderr",
     "output_type": "stream",
     "text": [
      "C:\\Users\\Kaiqu\\anaconda3\\lib\\site-packages\\sklearn\\model_selection\\_split.py:667: UserWarning: The least populated class in y has only 1 members, which is less than n_splits=5.\n",
      "  % (min_groups, self.n_splits)), UserWarning)\n",
      "C:\\Users\\Kaiqu\\anaconda3\\lib\\site-packages\\sklearn\\model_selection\\_split.py:667: UserWarning: The least populated class in y has only 1 members, which is less than n_splits=5.\n",
      "  % (min_groups, self.n_splits)), UserWarning)\n",
      "C:\\Users\\Kaiqu\\anaconda3\\lib\\site-packages\\sklearn\\model_selection\\_split.py:667: UserWarning: The least populated class in y has only 1 members, which is less than n_splits=5.\n",
      "  % (min_groups, self.n_splits)), UserWarning)\n",
      "C:\\Users\\Kaiqu\\anaconda3\\lib\\site-packages\\sklearn\\model_selection\\_split.py:667: UserWarning: The least populated class in y has only 1 members, which is less than n_splits=5.\n",
      "  % (min_groups, self.n_splits)), UserWarning)\n",
      "C:\\Users\\Kaiqu\\anaconda3\\lib\\site-packages\\sklearn\\model_selection\\_split.py:667: UserWarning: The least populated class in y has only 1 members, which is less than n_splits=5.\n",
      "  % (min_groups, self.n_splits)), UserWarning)\n",
      "C:\\Users\\Kaiqu\\anaconda3\\lib\\site-packages\\sklearn\\model_selection\\_split.py:667: UserWarning: The least populated class in y has only 1 members, which is less than n_splits=5.\n",
      "  % (min_groups, self.n_splits)), UserWarning)\n",
      "C:\\Users\\Kaiqu\\anaconda3\\lib\\site-packages\\sklearn\\model_selection\\_split.py:667: UserWarning: The least populated class in y has only 1 members, which is less than n_splits=5.\n",
      "  % (min_groups, self.n_splits)), UserWarning)\n",
      "C:\\Users\\Kaiqu\\anaconda3\\lib\\site-packages\\sklearn\\model_selection\\_split.py:667: UserWarning: The least populated class in y has only 1 members, which is less than n_splits=5.\n",
      "  % (min_groups, self.n_splits)), UserWarning)\n",
      "C:\\Users\\Kaiqu\\anaconda3\\lib\\site-packages\\sklearn\\model_selection\\_split.py:667: UserWarning: The least populated class in y has only 1 members, which is less than n_splits=5.\n",
      "  % (min_groups, self.n_splits)), UserWarning)\n",
      "C:\\Users\\Kaiqu\\anaconda3\\lib\\site-packages\\sklearn\\model_selection\\_split.py:667: UserWarning: The least populated class in y has only 1 members, which is less than n_splits=5.\n",
      "  % (min_groups, self.n_splits)), UserWarning)\n"
     ]
    }
   ],
   "source": [
    "np.random.seed(42)\n",
    "\n",
    "for train_index, test_index in cv.split(X, y):\n",
    "    X_train, X_test = X.T[train_index], X.T[test_index]\n",
    "    y_train, y_test = y_log[train_index], y_log[test_index]"
   ]
  },
  {
   "cell_type": "code",
   "execution_count": 84,
   "metadata": {},
   "outputs": [],
   "source": [
    "X_train, X_test = X_train.T, X_test.T"
   ]
  },
  {
   "cell_type": "code",
   "execution_count": 85,
   "metadata": {},
   "outputs": [],
   "source": [
    "X_train, X_test = X_train.reset_index(drop=True), X_test.reset_index(drop=True)\n",
    "y_train, y_test = y_train.reset_index(drop=True), y_test.reset_index(drop=True)"
   ]
  },
  {
   "cell_type": "code",
   "execution_count": 86,
   "metadata": {},
   "outputs": [],
   "source": [
    "linear = LinearRegression(normalize=True)\n",
    "ridgecv = RidgeCV(normalize=True)\n",
    "sgd = SGDRegressor()\n",
    "ridge = Ridge()"
   ]
  },
  {
   "cell_type": "code",
   "execution_count": 87,
   "metadata": {},
   "outputs": [
    {
     "name": "stdout",
     "output_type": "stream",
     "text": [
      "R2 Score: -2.549680399215677e+24, R2 train score: 0.979776262335905, mean_squared_error: 7.771126521526088e+23\n"
     ]
    }
   ],
   "source": [
    "model_testing(linear)"
   ]
  },
  {
   "cell_type": "code",
   "execution_count": 88,
   "metadata": {},
   "outputs": [
    {
     "name": "stdout",
     "output_type": "stream",
     "text": [
      "R2 Score: 0.7891321772367623, R2 train score: 0.9953665796512651, mean_squared_error: 0.06427003676680194\n"
     ]
    }
   ],
   "source": [
    "model_testing(ridgecv)"
   ]
  },
  {
   "cell_type": "code",
   "execution_count": 89,
   "metadata": {},
   "outputs": [
    {
     "name": "stdout",
     "output_type": "stream",
     "text": [
      "R2 Score: -5.693069842206057e+31, R2 train score: -1.0719207840890937e+32, mean_squared_error: 1.7351808506382701e+31\n"
     ]
    }
   ],
   "source": [
    "model_testing(sgd)"
   ]
  },
  {
   "cell_type": "code",
   "execution_count": 90,
   "metadata": {},
   "outputs": [
    {
     "name": "stdout",
     "output_type": "stream",
     "text": [
      "R2 Score: 0.8663619214605484, R2 train score: 0.9793070240792004, mean_squared_error: 0.040731317413083785\n"
     ]
    }
   ],
   "source": [
    "# winner!\n",
    "model_testing(ridge)"
   ]
  },
  {
   "cell_type": "markdown",
   "metadata": {},
   "source": [
    "#### Checking some results"
   ]
  },
  {
   "cell_type": "code",
   "execution_count": 91,
   "metadata": {},
   "outputs": [
    {
     "data": {
      "text/plain": [
       "Ridge(alpha=1.0, copy_X=True, fit_intercept=True, max_iter=None,\n",
       "      normalize=False, random_state=None, solver='auto', tol=0.001)"
      ]
     },
     "execution_count": 91,
     "metadata": {},
     "output_type": "execute_result"
    }
   ],
   "source": [
    "ridge.fit(X_train, y_train)"
   ]
  },
  {
   "cell_type": "code",
   "execution_count": 92,
   "metadata": {},
   "outputs": [
    {
     "data": {
      "text/plain": [
       "array([ 91.43929108,  90.53060899, 160.59895607, 130.97366076,\n",
       "        66.48100486, 116.69156436, 874.17584335, 127.56073374,\n",
       "       132.20963495,  70.67083575])"
      ]
     },
     "execution_count": 92,
     "metadata": {},
     "output_type": "execute_result"
    }
   ],
   "source": [
    "# result with predict\n",
    "np.exp(ridge.predict(X_test.iloc[:10, :]))"
   ]
  },
  {
   "cell_type": "code",
   "execution_count": 93,
   "metadata": {},
   "outputs": [
    {
     "data": {
      "text/plain": [
       "0    120.0\n",
       "1     90.0\n",
       "2    165.0\n",
       "3    109.0\n",
       "4     66.0\n",
       "5    110.0\n",
       "6    600.0\n",
       "7    150.0\n",
       "8    130.0\n",
       "9     70.0\n",
       "Name: price, dtype: float64"
      ]
     },
     "execution_count": 93,
     "metadata": {},
     "output_type": "execute_result"
    }
   ],
   "source": [
    "# Original result\n",
    "np.exp(y_test[:10])"
   ]
  },
  {
   "cell_type": "markdown",
   "metadata": {},
   "source": [
    "# Part VI: Deployment of changes based on your analysis."
   ]
  },
  {
   "cell_type": "markdown",
   "metadata": {},
   "source": [
    "## Conclusions"
   ]
  },
  {
   "cell_type": "markdown",
   "metadata": {},
   "source": [
    "I would like to let you know that in no way the methodologies I used are completely correct, but they were the ones I thought was best to use.\n",
    "\n",
    "During the process to adjust the data, it was by far the most complicated, as the data has a lot of information to be used, but I focused on what I considered most useful for this analysis. I looked for some answers on stackoverflow because I had no idea how to proceed, and in a way, I imagine that in the end everything worked out. Not to mention the excessive count of NaN values.\n",
    "\n",
    "During the visualization process, we saw at the beginning the streets with the highest allocation price, we saw the streets that most used the keywords we defined previously, the ones that have the most ratings, the most interesting thing is that a good part of the streets with more use of the keywords were the ones that received the most reviews! So we can, in a way, say that the description using certain words can help the location to be rented. We also saw the types of \"residences\" that were for rent, I was impressed that even boats are allocated by airbnb, we also checked the types of properties that have the most valuations which were mostly houses and apartments and the average price of these properties.\n",
    "\n",
    "In part of our machine learning model, it was very complicated and it took me a few days to get the current result.<br>\n",
    "Initially I would only do with the `LinearRegression` model that was seen in class, however its metrics were very bad (This is due to how my data was in its final state, not because of the model), so I started looking for others models it could test. So I found `RidgeCV`, selected it because models that handle\n",
    "cross-validation tend to generalize better when fitted to the data. As the data verification process took me a lot of time, I had no ideas of what to do to try to change the result based on the data, so I focused on testing other models), after the RidgeCV tests were *slightly better*, I tried to add a few more models (including the `Ridge` model, which performed better). <br>\n",
    "\n",
    "After some light testing, to check the mean square error and the R2 score, as the RidgeCV model had performed a little better, I thought about doing the _stratification in the data_ and seeing the behavior of the other models (which didn't change much), and the more interesting is that apart from the cross-validation of RidgeCV itself, with the stratified data *it performed a little better*. It was at this point that I decided to test the Ridge model, with stratified data and without, and its performance was superior to all other models, but the quadratic error was still intriguing me, as it was at a value I was not used to seeing.<br>\n",
    "\n",
    "After testing the Ridge model, I remembered seeing somewhere that when the distribution of the target variable is not normal, the model can be in trouble and have different results, so I remembered that in some cases, instead of using the value real, we could use the logarithmic value to try to acquire a *normal distribution*, and that's what happened in our case (I don't know if this was the best decision to make, but it seems to me so based on my limited knowledge of machine learning). After the changes made to the training and testing data, the Ridge methodology came very close to the expected results, the model did not get an overfit, with an acceptable R2 value and a quadratic error below 0.05 (at the limit, but below), and it was with this result that I decided to concede that this model would be suitable for predictions with the data I had chosen."
   ]
  },
  {
   "cell_type": "code",
   "execution_count": null,
   "metadata": {},
   "outputs": [],
   "source": []
  }
 ],
 "metadata": {
  "kernelspec": {
   "display_name": "Python 3",
   "language": "python",
   "name": "python3"
  },
  "language_info": {
   "codemirror_mode": {
    "name": "ipython",
    "version": 3
   },
   "file_extension": ".py",
   "mimetype": "text/x-python",
   "name": "python",
   "nbconvert_exporter": "python",
   "pygments_lexer": "ipython3",
   "version": "3.7.6"
  }
 },
 "nbformat": 4,
 "nbformat_minor": 4
}
