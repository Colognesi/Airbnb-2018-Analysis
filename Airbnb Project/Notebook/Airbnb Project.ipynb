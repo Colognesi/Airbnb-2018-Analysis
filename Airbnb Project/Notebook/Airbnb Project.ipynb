{
 "cells": [
  {
   "cell_type": "markdown",
   "metadata": {},
   "source": [
    "# Introdução\n",
    "\n",
    "Objetivo do projeto é verificar a performance geral das ruas com maior quantia de avaliações, com preços de locação mais caros e preço por tipo de residencia. Criar um modelo de machine learning para prever o preço de locação.\n",
    "\n",
    "## Localização dos dados:\n",
    "Seattle Dataset: https://www.kaggle.com/airbnb/seattle/data <br>\n",
    "\n",
    "## Biblíotecas utilizadas:\n",
    "Matplotlib, <br>\n",
    "Pandas, <br>\n",
    "Seaborn, <br>\n",
    "Scikit-Learn <br>\n",
    "RE (Regular Expression)<br>\n",
    "\n",
    "## Métricas para validação:\n",
    "R2 squared<br>\n",
    "Erro quadratico médio (mean_squared_error)\n",
    "\n",
    "## Modelos de machine learning testados:\n",
    "LinearRegression<br>\n",
    "RidgeCV<br>\n",
    "Ridge<br>\n",
    "SGDRegressor<br>\n",
    "\n",
    "## Metodologia para estratificação nos dados:\n",
    "\n",
    "RepeatedStratifiedKFold\n",
    "\n",
    "## Fontes externas utilizadas para algumas tratativas:\n",
    "\n",
    "Link: https://stackoverflow.com/questions/62619082/check-if-column-in-data-frame-contain-any-word-from-a-list-adding-count-pytho"
   ]
  },
  {
   "cell_type": "markdown",
   "metadata": {},
   "source": [
    "### Importação de bibliotecas"
   ]
  },
  {
   "cell_type": "code",
   "execution_count": 1,
   "metadata": {},
   "outputs": [],
   "source": [
    "import pandas as pd\n",
    "import numpy as np\n",
    "import matplotlib.pyplot as plt\n",
    "import seaborn as sns\n",
    "from sklearn.linear_model import LinearRegression\n",
    "from sklearn.linear_model import RidgeCV\n",
    "from sklearn.model_selection import train_test_split\n",
    "from sklearn.linear_model import SGDRegressor\n",
    "from sklearn.metrics import r2_score, mean_squared_error\n",
    "from sklearn.model_selection import RepeatedStratifiedKFold\n",
    "import re"
   ]
  },
  {
   "cell_type": "code",
   "execution_count": 2,
   "metadata": {},
   "outputs": [],
   "source": [
    "sns.set_palette('Accent')\n",
    "sns.set_style('darkgrid')"
   ]
  },
  {
   "cell_type": "markdown",
   "metadata": {},
   "source": [
    "## Funções criadas"
   ]
  },
  {
   "cell_type": "code",
   "execution_count": 3,
   "metadata": {},
   "outputs": [],
   "source": [
    "def transforma_float(df, colunas):\n",
    "    # Função criada para remoção dos caracteres \"$\" e \",\" do nosso dataset,\n",
    "    # A coluna \"price\" possui estes valores, então a intenção é remove-los para fazer a conversão para float.\n",
    "\n",
    "    for i in colunas:\n",
    "        df[i] = df[i].str.replace('$', '').str.replace(',', '').astype('float')\n",
    "        \n",
    "    return df\n",
    "\n",
    "def testa_modelo(modelo):\n",
    "    modelo.fit(X_train, y_train)\n",
    "    ypred = modelo.predict(X_test)\n",
    "    ypred_train = modelo.predict(X_train)\n",
    "\n",
    "    r2_test = r2_score(y_test, ypred)\n",
    "    r2_train = r2_score(y_train, ypred_train)\n",
    "    mse = mean_squared_error(y_test, ypred)\n",
    "    \n",
    "    print('R2 Score: {}, R2 train score: {}, mean_squared_error: {}'.format(r2_test, r2_train, mse))"
   ]
  },
  {
   "cell_type": "markdown",
   "metadata": {},
   "source": [
    "# Leitura dos dados"
   ]
  },
  {
   "cell_type": "code",
   "execution_count": 4,
   "metadata": {},
   "outputs": [],
   "source": [
    "seatle_listings = pd.read_csv('..\\Data\\seatle_listings.csv', encoding='utf-8')"
   ]
  },
  {
   "cell_type": "code",
   "execution_count": 5,
   "metadata": {},
   "outputs": [
    {
     "data": {
      "text/plain": [
       "(3818, 92)"
      ]
     },
     "execution_count": 5,
     "metadata": {},
     "output_type": "execute_result"
    }
   ],
   "source": [
    "seatle_listings.shape"
   ]
  },
  {
   "cell_type": "markdown",
   "metadata": {},
   "source": [
    "## Entendendo as colunas\n",
    "\n",
    "Primeiramente iremos verificar quantas colunas possuem todos os valores e depois verificar as que mais possuem dados faltantes."
   ]
  },
  {
   "cell_type": "code",
   "execution_count": 6,
   "metadata": {},
   "outputs": [
    {
     "data": {
      "text/plain": [
       "47"
      ]
     },
     "execution_count": 6,
     "metadata": {},
     "output_type": "execute_result"
    }
   ],
   "source": [
    "# 47 colunas possuem todos os valores preenchidos\n",
    "len(seatle_listings.columns[seatle_listings.isnull().mean() == 0])"
   ]
  },
  {
   "cell_type": "code",
   "execution_count": 7,
   "metadata": {},
   "outputs": [
    {
     "data": {
      "text/plain": [
       "Index(['square_feet', 'monthly_price', 'security_deposit', 'license'], dtype='object')"
      ]
     },
     "execution_count": 7,
     "metadata": {},
     "output_type": "execute_result"
    }
   ],
   "source": [
    "# Colunas com 50% dos valores faltantes\n",
    "seatle_listings.columns[seatle_listings.isnull().mean() > .50]"
   ]
  },
  {
   "cell_type": "code",
   "execution_count": 8,
   "metadata": {},
   "outputs": [
    {
     "data": {
      "text/plain": [
       "Index(['square_feet', 'license'], dtype='object')"
      ]
     },
     "execution_count": 8,
     "metadata": {},
     "output_type": "execute_result"
    }
   ],
   "source": [
    "# colunas com 75% dos valores faltantes.\n",
    "seatle_listings.columns[seatle_listings.isnull().mean() > .75]"
   ]
  },
  {
   "cell_type": "markdown",
   "metadata": {},
   "source": [
    "#### Drop de colunas com todos valores nan e none"
   ]
  },
  {
   "cell_type": "code",
   "execution_count": 9,
   "metadata": {},
   "outputs": [
    {
     "data": {
      "text/plain": [
       "array([nan])"
      ]
     },
     "execution_count": 9,
     "metadata": {},
     "output_type": "execute_result"
    }
   ],
   "source": [
    "# Todos os valores aqui inseridos são NaN, então serão dropados.\n",
    "seatle_listings['license'].unique()"
   ]
  },
  {
   "cell_type": "code",
   "execution_count": 10,
   "metadata": {},
   "outputs": [],
   "source": [
    "seatle_listings.dropna(how = 'all', axis = 1, inplace = True)"
   ]
  },
  {
   "cell_type": "code",
   "execution_count": 11,
   "metadata": {},
   "outputs": [],
   "source": [
    "seatle_listings.drop('experiences_offered', axis = 1, inplace = True)"
   ]
  },
  {
   "cell_type": "markdown",
   "metadata": {},
   "source": [
    "#### Verificação de colunas categoricas"
   ]
  },
  {
   "cell_type": "code",
   "execution_count": 12,
   "metadata": {},
   "outputs": [
    {
     "data": {
      "text/plain": [
       "{'amenities',\n",
       " 'bed_type',\n",
       " 'calendar_last_scraped',\n",
       " 'calendar_updated',\n",
       " 'cancellation_policy',\n",
       " 'city',\n",
       " 'cleaning_fee',\n",
       " 'country',\n",
       " 'country_code',\n",
       " 'description',\n",
       " 'extra_people',\n",
       " 'first_review',\n",
       " 'has_availability',\n",
       " 'host_about',\n",
       " 'host_acceptance_rate',\n",
       " 'host_has_profile_pic',\n",
       " 'host_identity_verified',\n",
       " 'host_is_superhost',\n",
       " 'host_location',\n",
       " 'host_name',\n",
       " 'host_neighbourhood',\n",
       " 'host_picture_url',\n",
       " 'host_response_rate',\n",
       " 'host_response_time',\n",
       " 'host_since',\n",
       " 'host_thumbnail_url',\n",
       " 'host_url',\n",
       " 'host_verifications',\n",
       " 'instant_bookable',\n",
       " 'is_location_exact',\n",
       " 'jurisdiction_names',\n",
       " 'last_review',\n",
       " 'last_scraped',\n",
       " 'listing_url',\n",
       " 'market',\n",
       " 'medium_url',\n",
       " 'monthly_price',\n",
       " 'name',\n",
       " 'neighborhood_overview',\n",
       " 'neighbourhood',\n",
       " 'neighbourhood_cleansed',\n",
       " 'neighbourhood_group_cleansed',\n",
       " 'notes',\n",
       " 'picture_url',\n",
       " 'price',\n",
       " 'property_type',\n",
       " 'require_guest_phone_verification',\n",
       " 'require_guest_profile_picture',\n",
       " 'requires_license',\n",
       " 'room_type',\n",
       " 'security_deposit',\n",
       " 'smart_location',\n",
       " 'space',\n",
       " 'state',\n",
       " 'street',\n",
       " 'summary',\n",
       " 'thumbnail_url',\n",
       " 'transit',\n",
       " 'weekly_price',\n",
       " 'xl_picture_url',\n",
       " 'zipcode'}"
      ]
     },
     "execution_count": 12,
     "metadata": {},
     "output_type": "execute_result"
    }
   ],
   "source": [
    "# Com este set iremos verificar colunas que possivelmente são numéricas e estão listadas como str\n",
    "set(seatle_listings.select_dtypes('object').columns)"
   ]
  },
  {
   "cell_type": "code",
   "execution_count": 13,
   "metadata": {},
   "outputs": [
    {
     "data": {
      "text/plain": [
       "False    0.998167\n",
       "True     0.001833\n",
       "Name: zipcode, dtype: float64"
      ]
     },
     "execution_count": 13,
     "metadata": {},
     "output_type": "execute_result"
    }
   ],
   "source": [
    "# Verificando possiveis variaveis para agrupamento, possivelmente o CEP será o escolhido, pois o percentual de itens faltantes é muito baixo.\n",
    "seatle_listings['zipcode'].isnull().value_counts(normalize = True)"
   ]
  },
  {
   "cell_type": "code",
   "execution_count": 14,
   "metadata": {},
   "outputs": [
    {
     "data": {
      "text/plain": [
       "False    3818\n",
       "Name: street, dtype: int64"
      ]
     },
     "execution_count": 14,
     "metadata": {},
     "output_type": "execute_result"
    }
   ],
   "source": [
    "# Pela rua também é uma ótima opção, pois todos os valores estão preenchidos\n",
    "seatle_listings['street'].isnull().value_counts()"
   ]
  },
  {
   "cell_type": "markdown",
   "metadata": {},
   "source": [
    "#### Conversão para valores numéricos"
   ]
  },
  {
   "cell_type": "code",
   "execution_count": 15,
   "metadata": {},
   "outputs": [
    {
     "data": {
      "text/html": [
       "<div>\n",
       "<style scoped>\n",
       "    .dataframe tbody tr th:only-of-type {\n",
       "        vertical-align: middle;\n",
       "    }\n",
       "\n",
       "    .dataframe tbody tr th {\n",
       "        vertical-align: top;\n",
       "    }\n",
       "\n",
       "    .dataframe thead th {\n",
       "        text-align: right;\n",
       "    }\n",
       "</style>\n",
       "<table border=\"1\" class=\"dataframe\">\n",
       "  <thead>\n",
       "    <tr style=\"text-align: right;\">\n",
       "      <th></th>\n",
       "      <th>id</th>\n",
       "      <th>listing_url</th>\n",
       "      <th>scrape_id</th>\n",
       "      <th>last_scraped</th>\n",
       "      <th>name</th>\n",
       "      <th>summary</th>\n",
       "      <th>space</th>\n",
       "      <th>description</th>\n",
       "      <th>neighborhood_overview</th>\n",
       "      <th>notes</th>\n",
       "      <th>...</th>\n",
       "      <th>review_scores_location</th>\n",
       "      <th>review_scores_value</th>\n",
       "      <th>requires_license</th>\n",
       "      <th>jurisdiction_names</th>\n",
       "      <th>instant_bookable</th>\n",
       "      <th>cancellation_policy</th>\n",
       "      <th>require_guest_profile_picture</th>\n",
       "      <th>require_guest_phone_verification</th>\n",
       "      <th>calculated_host_listings_count</th>\n",
       "      <th>reviews_per_month</th>\n",
       "    </tr>\n",
       "  </thead>\n",
       "  <tbody>\n",
       "    <tr>\n",
       "      <th>0</th>\n",
       "      <td>241032</td>\n",
       "      <td>https://www.airbnb.com/rooms/241032</td>\n",
       "      <td>20160104002432</td>\n",
       "      <td>2016-01-04</td>\n",
       "      <td>Stylish Queen Anne Apartment</td>\n",
       "      <td>NaN</td>\n",
       "      <td>Make your self at home in this charming one-be...</td>\n",
       "      <td>Make your self at home in this charming one-be...</td>\n",
       "      <td>NaN</td>\n",
       "      <td>NaN</td>\n",
       "      <td>...</td>\n",
       "      <td>9.0</td>\n",
       "      <td>10.0</td>\n",
       "      <td>f</td>\n",
       "      <td>WASHINGTON</td>\n",
       "      <td>f</td>\n",
       "      <td>moderate</td>\n",
       "      <td>f</td>\n",
       "      <td>f</td>\n",
       "      <td>2</td>\n",
       "      <td>4.07</td>\n",
       "    </tr>\n",
       "    <tr>\n",
       "      <th>1</th>\n",
       "      <td>953595</td>\n",
       "      <td>https://www.airbnb.com/rooms/953595</td>\n",
       "      <td>20160104002432</td>\n",
       "      <td>2016-01-04</td>\n",
       "      <td>Bright &amp; Airy Queen Anne Apartment</td>\n",
       "      <td>Chemically sensitive? We've removed the irrita...</td>\n",
       "      <td>Beautiful, hypoallergenic apartment in an extr...</td>\n",
       "      <td>Chemically sensitive? We've removed the irrita...</td>\n",
       "      <td>Queen Anne is a wonderful, truly functional vi...</td>\n",
       "      <td>What's up with the free pillows?  Our home was...</td>\n",
       "      <td>...</td>\n",
       "      <td>10.0</td>\n",
       "      <td>10.0</td>\n",
       "      <td>f</td>\n",
       "      <td>WASHINGTON</td>\n",
       "      <td>f</td>\n",
       "      <td>strict</td>\n",
       "      <td>t</td>\n",
       "      <td>t</td>\n",
       "      <td>6</td>\n",
       "      <td>1.48</td>\n",
       "    </tr>\n",
       "    <tr>\n",
       "      <th>2</th>\n",
       "      <td>3308979</td>\n",
       "      <td>https://www.airbnb.com/rooms/3308979</td>\n",
       "      <td>20160104002432</td>\n",
       "      <td>2016-01-04</td>\n",
       "      <td>New Modern House-Amazing water view</td>\n",
       "      <td>New modern house built in 2013.  Spectacular s...</td>\n",
       "      <td>Our house is modern, light and fresh with a wa...</td>\n",
       "      <td>New modern house built in 2013.  Spectacular s...</td>\n",
       "      <td>Upper Queen Anne is a charming neighborhood fu...</td>\n",
       "      <td>Our house is located just 5 short blocks to To...</td>\n",
       "      <td>...</td>\n",
       "      <td>10.0</td>\n",
       "      <td>10.0</td>\n",
       "      <td>f</td>\n",
       "      <td>WASHINGTON</td>\n",
       "      <td>f</td>\n",
       "      <td>strict</td>\n",
       "      <td>f</td>\n",
       "      <td>f</td>\n",
       "      <td>2</td>\n",
       "      <td>1.15</td>\n",
       "    </tr>\n",
       "    <tr>\n",
       "      <th>3</th>\n",
       "      <td>7421966</td>\n",
       "      <td>https://www.airbnb.com/rooms/7421966</td>\n",
       "      <td>20160104002432</td>\n",
       "      <td>2016-01-04</td>\n",
       "      <td>Queen Anne Chateau</td>\n",
       "      <td>A charming apartment that sits atop Queen Anne...</td>\n",
       "      <td>NaN</td>\n",
       "      <td>A charming apartment that sits atop Queen Anne...</td>\n",
       "      <td>NaN</td>\n",
       "      <td>NaN</td>\n",
       "      <td>...</td>\n",
       "      <td>NaN</td>\n",
       "      <td>NaN</td>\n",
       "      <td>f</td>\n",
       "      <td>WASHINGTON</td>\n",
       "      <td>f</td>\n",
       "      <td>flexible</td>\n",
       "      <td>f</td>\n",
       "      <td>f</td>\n",
       "      <td>1</td>\n",
       "      <td>NaN</td>\n",
       "    </tr>\n",
       "    <tr>\n",
       "      <th>4</th>\n",
       "      <td>278830</td>\n",
       "      <td>https://www.airbnb.com/rooms/278830</td>\n",
       "      <td>20160104002432</td>\n",
       "      <td>2016-01-04</td>\n",
       "      <td>Charming craftsman 3 bdm house</td>\n",
       "      <td>Cozy family craftman house in beautiful neighb...</td>\n",
       "      <td>Cozy family craftman house in beautiful neighb...</td>\n",
       "      <td>Cozy family craftman house in beautiful neighb...</td>\n",
       "      <td>We are in the beautiful neighborhood of Queen ...</td>\n",
       "      <td>Belltown</td>\n",
       "      <td>...</td>\n",
       "      <td>9.0</td>\n",
       "      <td>9.0</td>\n",
       "      <td>f</td>\n",
       "      <td>WASHINGTON</td>\n",
       "      <td>f</td>\n",
       "      <td>strict</td>\n",
       "      <td>f</td>\n",
       "      <td>f</td>\n",
       "      <td>1</td>\n",
       "      <td>0.89</td>\n",
       "    </tr>\n",
       "    <tr>\n",
       "      <th>...</th>\n",
       "      <td>...</td>\n",
       "      <td>...</td>\n",
       "      <td>...</td>\n",
       "      <td>...</td>\n",
       "      <td>...</td>\n",
       "      <td>...</td>\n",
       "      <td>...</td>\n",
       "      <td>...</td>\n",
       "      <td>...</td>\n",
       "      <td>...</td>\n",
       "      <td>...</td>\n",
       "      <td>...</td>\n",
       "      <td>...</td>\n",
       "      <td>...</td>\n",
       "      <td>...</td>\n",
       "      <td>...</td>\n",
       "      <td>...</td>\n",
       "      <td>...</td>\n",
       "      <td>...</td>\n",
       "      <td>...</td>\n",
       "      <td>...</td>\n",
       "    </tr>\n",
       "    <tr>\n",
       "      <th>3813</th>\n",
       "      <td>8101950</td>\n",
       "      <td>https://www.airbnb.com/rooms/8101950</td>\n",
       "      <td>20160104002432</td>\n",
       "      <td>2016-01-04</td>\n",
       "      <td>3BR Mountain View House in Seattle</td>\n",
       "      <td>Our 3BR/2BA house boasts incredible views of t...</td>\n",
       "      <td>Our 3BR/2BA house bright, stylish, and wheelch...</td>\n",
       "      <td>Our 3BR/2BA house boasts incredible views of t...</td>\n",
       "      <td>We're located near lots of family fun. Woodlan...</td>\n",
       "      <td>NaN</td>\n",
       "      <td>...</td>\n",
       "      <td>10.0</td>\n",
       "      <td>8.0</td>\n",
       "      <td>f</td>\n",
       "      <td>WASHINGTON</td>\n",
       "      <td>f</td>\n",
       "      <td>strict</td>\n",
       "      <td>f</td>\n",
       "      <td>f</td>\n",
       "      <td>8</td>\n",
       "      <td>0.30</td>\n",
       "    </tr>\n",
       "    <tr>\n",
       "      <th>3814</th>\n",
       "      <td>8902327</td>\n",
       "      <td>https://www.airbnb.com/rooms/8902327</td>\n",
       "      <td>20160104002432</td>\n",
       "      <td>2016-01-04</td>\n",
       "      <td>Portage Bay View!-One Bedroom Apt</td>\n",
       "      <td>800 square foot 1 bedroom basement apartment w...</td>\n",
       "      <td>This space has a great view of Portage Bay wit...</td>\n",
       "      <td>800 square foot 1 bedroom basement apartment w...</td>\n",
       "      <td>The neighborhood is a quiet oasis that is clos...</td>\n",
       "      <td>This is a basement apartment in a newer reside...</td>\n",
       "      <td>...</td>\n",
       "      <td>10.0</td>\n",
       "      <td>10.0</td>\n",
       "      <td>f</td>\n",
       "      <td>WASHINGTON</td>\n",
       "      <td>f</td>\n",
       "      <td>moderate</td>\n",
       "      <td>f</td>\n",
       "      <td>f</td>\n",
       "      <td>1</td>\n",
       "      <td>2.00</td>\n",
       "    </tr>\n",
       "    <tr>\n",
       "      <th>3815</th>\n",
       "      <td>10267360</td>\n",
       "      <td>https://www.airbnb.com/rooms/10267360</td>\n",
       "      <td>20160104002432</td>\n",
       "      <td>2016-01-04</td>\n",
       "      <td>Private apartment view of Lake WA</td>\n",
       "      <td>Very comfortable lower unit. Quiet, charming m...</td>\n",
       "      <td>NaN</td>\n",
       "      <td>Very comfortable lower unit. Quiet, charming m...</td>\n",
       "      <td>NaN</td>\n",
       "      <td>NaN</td>\n",
       "      <td>...</td>\n",
       "      <td>NaN</td>\n",
       "      <td>NaN</td>\n",
       "      <td>f</td>\n",
       "      <td>WASHINGTON</td>\n",
       "      <td>f</td>\n",
       "      <td>moderate</td>\n",
       "      <td>f</td>\n",
       "      <td>f</td>\n",
       "      <td>1</td>\n",
       "      <td>NaN</td>\n",
       "    </tr>\n",
       "    <tr>\n",
       "      <th>3816</th>\n",
       "      <td>9604740</td>\n",
       "      <td>https://www.airbnb.com/rooms/9604740</td>\n",
       "      <td>20160104002432</td>\n",
       "      <td>2016-01-04</td>\n",
       "      <td>Amazing View with Modern Comfort!</td>\n",
       "      <td>Cozy studio condo in the heart on Madison Park...</td>\n",
       "      <td>Fully furnished unit to accommodate most needs...</td>\n",
       "      <td>Cozy studio condo in the heart on Madison Park...</td>\n",
       "      <td>Madison Park offers a peaceful slow pace upsca...</td>\n",
       "      <td>NaN</td>\n",
       "      <td>...</td>\n",
       "      <td>NaN</td>\n",
       "      <td>NaN</td>\n",
       "      <td>f</td>\n",
       "      <td>WASHINGTON</td>\n",
       "      <td>f</td>\n",
       "      <td>moderate</td>\n",
       "      <td>f</td>\n",
       "      <td>f</td>\n",
       "      <td>1</td>\n",
       "      <td>NaN</td>\n",
       "    </tr>\n",
       "    <tr>\n",
       "      <th>3817</th>\n",
       "      <td>10208623</td>\n",
       "      <td>https://www.airbnb.com/rooms/10208623</td>\n",
       "      <td>20160104002432</td>\n",
       "      <td>2016-01-04</td>\n",
       "      <td>Large Lakefront Apartment</td>\n",
       "      <td>All hardwood floors, fireplace, 65\" TV with Xb...</td>\n",
       "      <td>NaN</td>\n",
       "      <td>All hardwood floors, fireplace, 65\" TV with Xb...</td>\n",
       "      <td>NaN</td>\n",
       "      <td>Also our puppy will be boarded away.</td>\n",
       "      <td>...</td>\n",
       "      <td>NaN</td>\n",
       "      <td>NaN</td>\n",
       "      <td>f</td>\n",
       "      <td>WASHINGTON</td>\n",
       "      <td>f</td>\n",
       "      <td>flexible</td>\n",
       "      <td>f</td>\n",
       "      <td>f</td>\n",
       "      <td>1</td>\n",
       "      <td>NaN</td>\n",
       "    </tr>\n",
       "  </tbody>\n",
       "</table>\n",
       "<p>3818 rows × 90 columns</p>\n",
       "</div>"
      ],
      "text/plain": [
       "            id                            listing_url       scrape_id  \\\n",
       "0       241032    https://www.airbnb.com/rooms/241032  20160104002432   \n",
       "1       953595    https://www.airbnb.com/rooms/953595  20160104002432   \n",
       "2      3308979   https://www.airbnb.com/rooms/3308979  20160104002432   \n",
       "3      7421966   https://www.airbnb.com/rooms/7421966  20160104002432   \n",
       "4       278830    https://www.airbnb.com/rooms/278830  20160104002432   \n",
       "...        ...                                    ...             ...   \n",
       "3813   8101950   https://www.airbnb.com/rooms/8101950  20160104002432   \n",
       "3814   8902327   https://www.airbnb.com/rooms/8902327  20160104002432   \n",
       "3815  10267360  https://www.airbnb.com/rooms/10267360  20160104002432   \n",
       "3816   9604740   https://www.airbnb.com/rooms/9604740  20160104002432   \n",
       "3817  10208623  https://www.airbnb.com/rooms/10208623  20160104002432   \n",
       "\n",
       "     last_scraped                                 name  \\\n",
       "0      2016-01-04         Stylish Queen Anne Apartment   \n",
       "1      2016-01-04   Bright & Airy Queen Anne Apartment   \n",
       "2      2016-01-04  New Modern House-Amazing water view   \n",
       "3      2016-01-04                   Queen Anne Chateau   \n",
       "4      2016-01-04       Charming craftsman 3 bdm house   \n",
       "...           ...                                  ...   \n",
       "3813   2016-01-04   3BR Mountain View House in Seattle   \n",
       "3814   2016-01-04    Portage Bay View!-One Bedroom Apt   \n",
       "3815   2016-01-04    Private apartment view of Lake WA   \n",
       "3816   2016-01-04    Amazing View with Modern Comfort!   \n",
       "3817   2016-01-04            Large Lakefront Apartment   \n",
       "\n",
       "                                                summary  \\\n",
       "0                                                   NaN   \n",
       "1     Chemically sensitive? We've removed the irrita...   \n",
       "2     New modern house built in 2013.  Spectacular s...   \n",
       "3     A charming apartment that sits atop Queen Anne...   \n",
       "4     Cozy family craftman house in beautiful neighb...   \n",
       "...                                                 ...   \n",
       "3813  Our 3BR/2BA house boasts incredible views of t...   \n",
       "3814  800 square foot 1 bedroom basement apartment w...   \n",
       "3815  Very comfortable lower unit. Quiet, charming m...   \n",
       "3816  Cozy studio condo in the heart on Madison Park...   \n",
       "3817  All hardwood floors, fireplace, 65\" TV with Xb...   \n",
       "\n",
       "                                                  space  \\\n",
       "0     Make your self at home in this charming one-be...   \n",
       "1     Beautiful, hypoallergenic apartment in an extr...   \n",
       "2     Our house is modern, light and fresh with a wa...   \n",
       "3                                                   NaN   \n",
       "4     Cozy family craftman house in beautiful neighb...   \n",
       "...                                                 ...   \n",
       "3813  Our 3BR/2BA house bright, stylish, and wheelch...   \n",
       "3814  This space has a great view of Portage Bay wit...   \n",
       "3815                                                NaN   \n",
       "3816  Fully furnished unit to accommodate most needs...   \n",
       "3817                                                NaN   \n",
       "\n",
       "                                            description  \\\n",
       "0     Make your self at home in this charming one-be...   \n",
       "1     Chemically sensitive? We've removed the irrita...   \n",
       "2     New modern house built in 2013.  Spectacular s...   \n",
       "3     A charming apartment that sits atop Queen Anne...   \n",
       "4     Cozy family craftman house in beautiful neighb...   \n",
       "...                                                 ...   \n",
       "3813  Our 3BR/2BA house boasts incredible views of t...   \n",
       "3814  800 square foot 1 bedroom basement apartment w...   \n",
       "3815  Very comfortable lower unit. Quiet, charming m...   \n",
       "3816  Cozy studio condo in the heart on Madison Park...   \n",
       "3817  All hardwood floors, fireplace, 65\" TV with Xb...   \n",
       "\n",
       "                                  neighborhood_overview  \\\n",
       "0                                                   NaN   \n",
       "1     Queen Anne is a wonderful, truly functional vi...   \n",
       "2     Upper Queen Anne is a charming neighborhood fu...   \n",
       "3                                                   NaN   \n",
       "4     We are in the beautiful neighborhood of Queen ...   \n",
       "...                                                 ...   \n",
       "3813  We're located near lots of family fun. Woodlan...   \n",
       "3814  The neighborhood is a quiet oasis that is clos...   \n",
       "3815                                                NaN   \n",
       "3816  Madison Park offers a peaceful slow pace upsca...   \n",
       "3817                                                NaN   \n",
       "\n",
       "                                                  notes  ...  \\\n",
       "0                                                   NaN  ...   \n",
       "1     What's up with the free pillows?  Our home was...  ...   \n",
       "2     Our house is located just 5 short blocks to To...  ...   \n",
       "3                                                   NaN  ...   \n",
       "4                                             Belltown   ...   \n",
       "...                                                 ...  ...   \n",
       "3813                                                NaN  ...   \n",
       "3814  This is a basement apartment in a newer reside...  ...   \n",
       "3815                                                NaN  ...   \n",
       "3816                                                NaN  ...   \n",
       "3817               Also our puppy will be boarded away.  ...   \n",
       "\n",
       "     review_scores_location review_scores_value requires_license  \\\n",
       "0                       9.0                10.0                f   \n",
       "1                      10.0                10.0                f   \n",
       "2                      10.0                10.0                f   \n",
       "3                       NaN                 NaN                f   \n",
       "4                       9.0                 9.0                f   \n",
       "...                     ...                 ...              ...   \n",
       "3813                   10.0                 8.0                f   \n",
       "3814                   10.0                10.0                f   \n",
       "3815                    NaN                 NaN                f   \n",
       "3816                    NaN                 NaN                f   \n",
       "3817                    NaN                 NaN                f   \n",
       "\n",
       "     jurisdiction_names instant_bookable  cancellation_policy  \\\n",
       "0            WASHINGTON                f             moderate   \n",
       "1            WASHINGTON                f               strict   \n",
       "2            WASHINGTON                f               strict   \n",
       "3            WASHINGTON                f             flexible   \n",
       "4            WASHINGTON                f               strict   \n",
       "...                 ...              ...                  ...   \n",
       "3813         WASHINGTON                f               strict   \n",
       "3814         WASHINGTON                f             moderate   \n",
       "3815         WASHINGTON                f             moderate   \n",
       "3816         WASHINGTON                f             moderate   \n",
       "3817         WASHINGTON                f             flexible   \n",
       "\n",
       "     require_guest_profile_picture require_guest_phone_verification  \\\n",
       "0                                f                                f   \n",
       "1                                t                                t   \n",
       "2                                f                                f   \n",
       "3                                f                                f   \n",
       "4                                f                                f   \n",
       "...                            ...                              ...   \n",
       "3813                             f                                f   \n",
       "3814                             f                                f   \n",
       "3815                             f                                f   \n",
       "3816                             f                                f   \n",
       "3817                             f                                f   \n",
       "\n",
       "     calculated_host_listings_count reviews_per_month  \n",
       "0                                 2              4.07  \n",
       "1                                 6              1.48  \n",
       "2                                 2              1.15  \n",
       "3                                 1               NaN  \n",
       "4                                 1              0.89  \n",
       "...                             ...               ...  \n",
       "3813                              8              0.30  \n",
       "3814                              1              2.00  \n",
       "3815                              1               NaN  \n",
       "3816                              1               NaN  \n",
       "3817                              1               NaN  \n",
       "\n",
       "[3818 rows x 90 columns]"
      ]
     },
     "execution_count": 15,
     "metadata": {},
     "output_type": "execute_result"
    }
   ],
   "source": [
    "# Colunas identificadas como valores numéricos foram convertidas. \n",
    "transforma_float(seatle_listings, seatle_listings[['extra_people', 'cleaning_fee', 'monthly_price', 'price', 'weekly_price', 'security_deposit']])"
   ]
  },
  {
   "cell_type": "markdown",
   "metadata": {},
   "source": [
    "#### Seleção valores a serem inseridos na coluna de valor semanal\n",
    "\n",
    "Preferi utilizar desta metodologia do que remover as colunas, assim ainda teria um valor para trabalhar e nao \"jogaria fora\" informações do dataset."
   ]
  },
  {
   "cell_type": "code",
   "execution_count": 16,
   "metadata": {},
   "outputs": [],
   "source": [
    "id_price = seatle_listings.groupby(['id'])['price'].sum()"
   ]
  },
  {
   "cell_type": "code",
   "execution_count": 17,
   "metadata": {},
   "outputs": [
    {
     "data": {
      "text/plain": [
       "0        595.0\n",
       "2       6825.0\n",
       "4       3150.0\n",
       "13      1155.0\n",
       "14      3227.0\n",
       "         ...  \n",
       "3811     455.0\n",
       "3813    2513.0\n",
       "3814     553.0\n",
       "3816     693.0\n",
       "3817     609.0\n",
       "Name: id, Length: 1809, dtype: float64"
      ]
     },
     "execution_count": 17,
     "metadata": {},
     "output_type": "execute_result"
    }
   ],
   "source": [
    "seatle_listings['id'][seatle_listings['weekly_price'].isnull() == True].map(id_price * 7)"
   ]
  },
  {
   "cell_type": "code",
   "execution_count": 18,
   "metadata": {},
   "outputs": [
    {
     "name": "stderr",
     "output_type": "stream",
     "text": [
      "C:\\Users\\Kaiqu\\anaconda3\\lib\\site-packages\\ipykernel_launcher.py:4: SettingWithCopyWarning: \n",
      "A value is trying to be set on a copy of a slice from a DataFrame\n",
      "\n",
      "See the caveats in the documentation: https://pandas.pydata.org/pandas-docs/stable/user_guide/indexing.html#returning-a-view-versus-a-copy\n",
      "  after removing the cwd from sys.path.\n"
     ]
    }
   ],
   "source": [
    "# Parte utilizada para adicionar o valor na coluna weekly_price\n",
    "# Decidi seguir o caminho no qual foi selecionado o valor da diária * 7 para chegar ao valor semanal\n",
    "seatle_listings.loc[:, 'weekly_price'][seatle_listings['weekly_price'].isnull()] = (seatle_listings['id'][seatle_listings['weekly_price'].isnull() == True]\n",
    "                                                                                    .map(id_price * 7))"
   ]
  },
  {
   "cell_type": "markdown",
   "metadata": {},
   "source": [
    "O processo acima funcionou. No fim das contas, queremos o maximo de valores preenchidos, então foi o metodo que achei mais adequado para preencher os dados de uma forma \"real\". Nao estou levando em consideracoes se o dono do local pode aplicar descontos em pacotes semanais/mensais. A intenção é verificar o desempenho semanal e mensal dos estados e no fim, criar um modelo de regressão para prever o possivel valor de uma diária.\n",
    "\n",
    "Usaremos o mesmo processo para preencher os valores mensais."
   ]
  },
  {
   "cell_type": "code",
   "execution_count": 19,
   "metadata": {},
   "outputs": [
    {
     "data": {
      "text/plain": [
       "True     0.602672\n",
       "False    0.397328\n",
       "Name: monthly_price, dtype: float64"
      ]
     },
     "execution_count": 19,
     "metadata": {},
     "output_type": "execute_result"
    }
   ],
   "source": [
    "# 60% dos dados nulos, iremos preencher os mesmos com os valores semanais x4\n",
    "seatle_listings.loc[:, 'monthly_price'].isnull().value_counts(normalize = True)"
   ]
  },
  {
   "cell_type": "code",
   "execution_count": 20,
   "metadata": {},
   "outputs": [
    {
     "name": "stderr",
     "output_type": "stream",
     "text": [
      "C:\\Users\\Kaiqu\\anaconda3\\lib\\site-packages\\ipykernel_launcher.py:3: SettingWithCopyWarning: \n",
      "A value is trying to be set on a copy of a slice from a DataFrame\n",
      "\n",
      "See the caveats in the documentation: https://pandas.pydata.org/pandas-docs/stable/user_guide/indexing.html#returning-a-view-versus-a-copy\n",
      "  This is separate from the ipykernel package so we can avoid doing imports until\n"
     ]
    }
   ],
   "source": [
    "wk_price = seatle_listings.groupby(['id'])['weekly_price'].sum()\n",
    "seatle_listings.loc[:, 'monthly_price'][seatle_listings['monthly_price'].isnull()] = (seatle_listings['id'][seatle_listings['monthly_price'].isnull() == True]\n",
    "                                                                                    .map(wk_price * 4))"
   ]
  },
  {
   "cell_type": "code",
   "execution_count": 21,
   "metadata": {},
   "outputs": [
    {
     "data": {
      "text/plain": [
       "False    1.0\n",
       "Name: monthly_price, dtype: float64"
      ]
     },
     "execution_count": 21,
     "metadata": {},
     "output_type": "execute_result"
    }
   ],
   "source": [
    "seatle_listings['monthly_price'].isnull().value_counts(normalize=True)"
   ]
  },
  {
   "cell_type": "code",
   "execution_count": 22,
   "metadata": {},
   "outputs": [],
   "source": [
    "# Agora, seguindo para nossa ultima variável numérica (de valores), para taxa de limpeza, os valores nulos serão preenchidos com 0\n",
    "seatle_listings['cleaning_fee'].fillna(0, inplace = True)"
   ]
  },
  {
   "cell_type": "code",
   "execution_count": 23,
   "metadata": {},
   "outputs": [
    {
     "data": {
      "text/plain": [
       "Index(['summary', 'space', 'neighborhood_overview', 'notes', 'transit',\n",
       "       'thumbnail_url', 'medium_url', 'xl_picture_url', 'host_name',\n",
       "       'host_since', 'host_location', 'host_about', 'host_response_time',\n",
       "       'host_response_rate', 'host_acceptance_rate', 'host_is_superhost',\n",
       "       'host_thumbnail_url', 'host_picture_url', 'host_neighbourhood',\n",
       "       'host_listings_count', 'host_total_listings_count',\n",
       "       'host_has_profile_pic', 'host_identity_verified', 'neighbourhood',\n",
       "       'zipcode', 'property_type', 'bathrooms', 'bedrooms', 'beds',\n",
       "       'square_feet', 'security_deposit', 'first_review', 'last_review',\n",
       "       'review_scores_rating', 'review_scores_accuracy',\n",
       "       'review_scores_cleanliness', 'review_scores_checkin',\n",
       "       'review_scores_communication', 'review_scores_location',\n",
       "       'review_scores_value', 'reviews_per_month'],\n",
       "      dtype='object')"
      ]
     },
     "execution_count": 23,
     "metadata": {},
     "output_type": "execute_result"
    }
   ],
   "source": [
    "# verificalçao de variaveis que ainda possuem valores nulos\n",
    "seatle_listings.columns[seatle_listings.isnull().mean()>0]"
   ]
  },
  {
   "cell_type": "code",
   "execution_count": 24,
   "metadata": {},
   "outputs": [
    {
     "data": {
      "text/plain": [
       "False    0.828182\n",
       "True     0.171818\n",
       "Name: review_scores_value, dtype: float64"
      ]
     },
     "execution_count": 24,
     "metadata": {},
     "output_type": "execute_result"
    }
   ],
   "source": [
    "seatle_listings['review_scores_value'].isnull().value_counts(normalize=True)"
   ]
  },
  {
   "cell_type": "code",
   "execution_count": 25,
   "metadata": {},
   "outputs": [],
   "source": [
    "# iremos dropar os codigos postais que nao estao presentes, para que possamos utilizar como mapeador de review\n",
    "seatle_listings.dropna(subset=['zipcode'], axis = 0, inplace = True)"
   ]
  },
  {
   "cell_type": "code",
   "execution_count": 26,
   "metadata": {},
   "outputs": [],
   "source": [
    "review_scores_value_per_zipcode = round(seatle_listings.groupby(['zipcode'])['review_scores_value'].mean(), 2)"
   ]
  },
  {
   "cell_type": "code",
   "execution_count": 27,
   "metadata": {},
   "outputs": [
    {
     "name": "stderr",
     "output_type": "stream",
     "text": [
      "C:\\Users\\Kaiqu\\anaconda3\\lib\\site-packages\\ipykernel_launcher.py:4: SettingWithCopyWarning: \n",
      "A value is trying to be set on a copy of a slice from a DataFrame\n",
      "\n",
      "See the caveats in the documentation: https://pandas.pydata.org/pandas-docs/stable/user_guide/indexing.html#returning-a-view-versus-a-copy\n",
      "  after removing the cwd from sys.path.\n"
     ]
    }
   ],
   "source": [
    "# Utilizado para fazer o preenchimento dos valores nulos da variavel review_score_value\n",
    "# a metodologia foi utilizar a média das avaliações de X codigo postal\n",
    "seatle_listings.loc[:, 'review_scores_value'][seatle_listings['review_scores_value'].isnull() == True] = (seatle_listings['zipcode']\n",
    "                                                                                                          .map(review_scores_value_per_zipcode))"
   ]
  },
  {
   "cell_type": "code",
   "execution_count": 28,
   "metadata": {},
   "outputs": [],
   "source": [
    "# variavel que representa o tempo de resposta, se responde dentro de 1 hora, 1 dia, etc... Iremos considera-la categoria e recolocar\n",
    "# seus valores para numericos representando suas categorias (valores nan serão preenchidos como -1)\n",
    "seatle_listings['host_response_time'] = seatle_listings['host_response_time'].astype('category').cat.codes"
   ]
  },
  {
   "cell_type": "markdown",
   "metadata": {},
   "source": [
    "#### Dropando algumas colunas categoricas."
   ]
  },
  {
   "cell_type": "markdown",
   "metadata": {},
   "source": [
    "Os critérios utilizados para o drop das colunas foram:\n",
    "\n",
    "Colunas que informam o mesmo valor repetidamente, isso atrapalha na capacidade do nosso futuro modelo de lidar com informacoes generalizadas,\n",
    "URL's e imagens. (Também foram removidas colunas que possuiam valores iguais)\n",
    "\n",
    "Minha primeira ideia era remover colunas que continham mais de 10 caracteres em seus valores, mas nao segui com esta ideia. Preferi olhar cada coluna destas categoricas e decidir qual seria de maior relevancia ou não."
   ]
  },
  {
   "cell_type": "code",
   "execution_count": 29,
   "metadata": {},
   "outputs": [],
   "source": [
    "# selecao de colunas a serem dropadas\n",
    "cat_cols=seatle_listings.select_dtypes('object').columns"
   ]
  },
  {
   "cell_type": "code",
   "execution_count": 30,
   "metadata": {},
   "outputs": [],
   "source": [
    "drop_list = ['listing_url', 'last_scraped', 'name', 'space', 'notes', 'transit',\n",
    "            'thumbnail_url', 'medium_url', 'picture_url', 'xl_picture_url',\n",
    "            'host_url', 'host_name', 'host_since', 'host_about',\n",
    "            'host_thumbnail_url', 'host_picture_url', 'host_neighbourhood',\n",
    "            'host_has_profile_pic', 'neighbourhood', 'city', 'state', 'market', \n",
    "            'smart_location', 'country_code', 'country',\n",
    "            'has_availability', 'first_review', 'last_review', \n",
    "            'requires_license', 'jurisdiction_names', 'summary', 'host_id', 'host_acceptance_rate',\n",
    "            'id', 'scrape_id', 'host_verifications']"
   ]
  },
  {
   "cell_type": "code",
   "execution_count": 31,
   "metadata": {},
   "outputs": [
    {
     "data": {
      "text/plain": [
       "18"
      ]
     },
     "execution_count": 31,
     "metadata": {},
     "output_type": "execute_result"
    }
   ],
   "source": [
    "# no fim das contas, conseguimos dar uma balanceada nas variaveis categoricas e quantitativas.\n",
    "len(cat_cols) - len(drop_list)"
   ]
  },
  {
   "cell_type": "code",
   "execution_count": 32,
   "metadata": {},
   "outputs": [
    {
     "data": {
      "text/plain": [
       "22"
      ]
     },
     "execution_count": 32,
     "metadata": {},
     "output_type": "execute_result"
    }
   ],
   "source": [
    "len(seatle_listings.select_dtypes('float').columns)"
   ]
  },
  {
   "cell_type": "code",
   "execution_count": 33,
   "metadata": {},
   "outputs": [],
   "source": [
    "seatle_listings.drop(drop_list, axis = 1, inplace = True)"
   ]
  },
  {
   "cell_type": "code",
   "execution_count": 34,
   "metadata": {},
   "outputs": [],
   "source": [
    "# mais uma correção de uma coluna que deveria ser numérica e estava como string\n",
    "seatle_listings['host_response_rate'] = seatle_listings['host_response_rate'].str.replace('%', '').astype('float')"
   ]
  },
  {
   "cell_type": "markdown",
   "metadata": {},
   "source": [
    "#### extração de palavras das descrições"
   ]
  },
  {
   "cell_type": "markdown",
   "metadata": {},
   "source": [
    "Para que possamos utilizar as colunas de descrição e de informações gerais da vizinhanca, selecionei algumas palavras chave.<br>\n",
    "O objetivo é contar quantas vezes as palavras chave aparecem, para que tenhamos alguma informação da coluna para usar futuramente (a mesma metodologia será aplicada na descrição)"
   ]
  },
  {
   "cell_type": "code",
   "execution_count": 35,
   "metadata": {},
   "outputs": [],
   "source": [
    "word_list = ['charming', 'beautifull', 'spectacular', 'cozy', 'comfortable',\n",
    "            'wondeful', 'quiet', 'view', 'close', 'gorgeous', 'pets', 'cat', 'dog',\n",
    "            'family', 'calm', 'peacefull', 'safe', 'police', 'bus', 'uber', 'taxi']"
   ]
  },
  {
   "cell_type": "code",
   "execution_count": 36,
   "metadata": {},
   "outputs": [],
   "source": [
    "# Metodologia abaixo encontrada em stack overflow\n",
    "# Link: https://stackoverflow.com/questions/62619082/check-if-column-in-data-frame-contain-any-word-from-a-list-adding-count-pytho\n",
    "search = re.compile(\"\\\\b%s\\\\b\" % \"\\\\b|\\\\b\".join(word_list), flags = re.IGNORECASE)"
   ]
  },
  {
   "cell_type": "code",
   "execution_count": 37,
   "metadata": {},
   "outputs": [
    {
     "name": "stderr",
     "output_type": "stream",
     "text": [
      "C:\\Users\\Kaiqu\\anaconda3\\lib\\site-packages\\ipykernel_launcher.py:4: SettingWithCopyWarning: \n",
      "A value is trying to be set on a copy of a slice from a DataFrame\n",
      "\n",
      "See the caveats in the documentation: https://pandas.pydata.org/pandas-docs/stable/user_guide/indexing.html#returning-a-view-versus-a-copy\n",
      "  after removing the cwd from sys.path.\n"
     ]
    }
   ],
   "source": [
    "seatle_listings['description'] = seatle_listings['description'].str.findall(search).apply(len)\n",
    "# vamos dar um fillna com o valor 0 na variavel neighborhood overview, pois como iremos transforma-la em numerica, o 0 irá preencher os valores nan\n",
    "seatle_listings.loc[:, 'neighborhood_overview'][seatle_listings['neighborhood_overview'].isnull()==False] = (\n",
    "    seatle_listings.loc[:, 'neighborhood_overview'][seatle_listings['neighborhood_overview'].isnull()==False].str.findall(search).apply(len))"
   ]
  },
  {
   "cell_type": "code",
   "execution_count": 38,
   "metadata": {},
   "outputs": [],
   "source": [
    "seatle_listings['neighborhood_overview'].fillna(int(0), inplace = True)\n",
    "seatle_listings['neighborhood_overview'] = seatle_listings['neighborhood_overview'].astype('int')"
   ]
  },
  {
   "cell_type": "code",
   "execution_count": 39,
   "metadata": {},
   "outputs": [],
   "source": [
    "# hosts que nao possuem tempo de resposta serao classificados como tempo 0 também\n",
    "seatle_listings['host_response_rate'].fillna(0, inplace =True)"
   ]
  },
  {
   "cell_type": "code",
   "execution_count": 40,
   "metadata": {},
   "outputs": [
    {
     "data": {
      "text/plain": [
       "description                         0.000000\n",
       "neighborhood_overview               0.000000\n",
       "host_location                       0.002099\n",
       "host_response_time                  0.000000\n",
       "host_response_rate                  0.000000\n",
       "host_is_superhost                   0.000525\n",
       "host_listings_count                 0.000525\n",
       "host_total_listings_count           0.000525\n",
       "host_identity_verified              0.000525\n",
       "street                              0.000000\n",
       "neighbourhood_cleansed              0.000000\n",
       "neighbourhood_group_cleansed        0.000000\n",
       "zipcode                             0.000000\n",
       "latitude                            0.000000\n",
       "longitude                           0.000000\n",
       "is_location_exact                   0.000000\n",
       "property_type                       0.000262\n",
       "room_type                           0.000000\n",
       "accommodates                        0.000000\n",
       "bathrooms                           0.004198\n",
       "bedrooms                            0.001574\n",
       "beds                                0.000262\n",
       "bed_type                            0.000000\n",
       "amenities                           0.000000\n",
       "square_feet                         0.974810\n",
       "price                               0.000000\n",
       "weekly_price                        0.000000\n",
       "monthly_price                       0.000000\n",
       "security_deposit                    0.510890\n",
       "cleaning_fee                        0.000000\n",
       "guests_included                     0.000000\n",
       "extra_people                        0.000000\n",
       "minimum_nights                      0.000000\n",
       "maximum_nights                      0.000000\n",
       "calendar_updated                    0.000000\n",
       "availability_30                     0.000000\n",
       "availability_60                     0.000000\n",
       "availability_90                     0.000000\n",
       "availability_365                    0.000000\n",
       "calendar_last_scraped               0.000000\n",
       "number_of_reviews                   0.000000\n",
       "review_scores_rating                0.169509\n",
       "review_scores_accuracy              0.172396\n",
       "review_scores_cleanliness           0.171084\n",
       "review_scores_checkin               0.172396\n",
       "review_scores_communication         0.170559\n",
       "review_scores_location              0.171609\n",
       "review_scores_value                 0.000000\n",
       "instant_bookable                    0.000000\n",
       "cancellation_policy                 0.000000\n",
       "require_guest_profile_picture       0.000000\n",
       "require_guest_phone_verification    0.000000\n",
       "calculated_host_listings_count      0.000000\n",
       "reviews_per_month                   0.164261\n",
       "dtype: float64"
      ]
     },
     "execution_count": 40,
     "metadata": {},
     "output_type": "execute_result"
    }
   ],
   "source": [
    "# verificacao das colunas que ainda possuem nulos.\n",
    "seatle_listings.isnull().mean()"
   ]
  },
  {
   "cell_type": "code",
   "execution_count": 41,
   "metadata": {},
   "outputs": [],
   "source": [
    "seatle_listings.dropna(subset = ['host_location', 'host_is_superhost', 'host_listings_count', 'host_total_listings_count'], axis = 0, inplace = True)\n",
    "seatle_listings.dropna(subset = ['beds', 'bathrooms', 'bathrooms', 'bedrooms'], axis = 0, inplace = True)"
   ]
  },
  {
   "cell_type": "code",
   "execution_count": 42,
   "metadata": {},
   "outputs": [],
   "source": [
    "seatle_listings.drop(columns='square_feet', inplace = True)"
   ]
  },
  {
   "cell_type": "code",
   "execution_count": 43,
   "metadata": {},
   "outputs": [],
   "source": [
    "seatle_listings['reviews_per_month'].fillna(0, inplace = True)\n",
    "seatle_listings['security_deposit'].fillna(0, inplace = True)"
   ]
  },
  {
   "cell_type": "code",
   "execution_count": 45,
   "metadata": {},
   "outputs": [
    {
     "data": {
      "text/html": [
       "<div>\n",
       "<style scoped>\n",
       "    .dataframe tbody tr th:only-of-type {\n",
       "        vertical-align: middle;\n",
       "    }\n",
       "\n",
       "    .dataframe tbody tr th {\n",
       "        vertical-align: top;\n",
       "    }\n",
       "\n",
       "    .dataframe thead th {\n",
       "        text-align: right;\n",
       "    }\n",
       "</style>\n",
       "<table border=\"1\" class=\"dataframe\">\n",
       "  <thead>\n",
       "    <tr style=\"text-align: right;\">\n",
       "      <th></th>\n",
       "      <th>review_scores_rating</th>\n",
       "      <th>review_scores_accuracy</th>\n",
       "      <th>review_scores_cleanliness</th>\n",
       "      <th>review_scores_checkin</th>\n",
       "      <th>review_scores_communication</th>\n",
       "      <th>review_scores_location</th>\n",
       "    </tr>\n",
       "  </thead>\n",
       "  <tbody>\n",
       "    <tr>\n",
       "      <th>0</th>\n",
       "      <td>95.0</td>\n",
       "      <td>10.0</td>\n",
       "      <td>10.0</td>\n",
       "      <td>10.0</td>\n",
       "      <td>10.0</td>\n",
       "      <td>9.0</td>\n",
       "    </tr>\n",
       "    <tr>\n",
       "      <th>1</th>\n",
       "      <td>96.0</td>\n",
       "      <td>10.0</td>\n",
       "      <td>10.0</td>\n",
       "      <td>10.0</td>\n",
       "      <td>10.0</td>\n",
       "      <td>10.0</td>\n",
       "    </tr>\n",
       "    <tr>\n",
       "      <th>2</th>\n",
       "      <td>97.0</td>\n",
       "      <td>10.0</td>\n",
       "      <td>10.0</td>\n",
       "      <td>10.0</td>\n",
       "      <td>10.0</td>\n",
       "      <td>10.0</td>\n",
       "    </tr>\n",
       "    <tr>\n",
       "      <th>3</th>\n",
       "      <td>NaN</td>\n",
       "      <td>NaN</td>\n",
       "      <td>NaN</td>\n",
       "      <td>NaN</td>\n",
       "      <td>NaN</td>\n",
       "      <td>NaN</td>\n",
       "    </tr>\n",
       "    <tr>\n",
       "      <th>4</th>\n",
       "      <td>92.0</td>\n",
       "      <td>9.0</td>\n",
       "      <td>9.0</td>\n",
       "      <td>10.0</td>\n",
       "      <td>10.0</td>\n",
       "      <td>9.0</td>\n",
       "    </tr>\n",
       "    <tr>\n",
       "      <th>...</th>\n",
       "      <td>...</td>\n",
       "      <td>...</td>\n",
       "      <td>...</td>\n",
       "      <td>...</td>\n",
       "      <td>...</td>\n",
       "      <td>...</td>\n",
       "    </tr>\n",
       "    <tr>\n",
       "      <th>3813</th>\n",
       "      <td>80.0</td>\n",
       "      <td>8.0</td>\n",
       "      <td>10.0</td>\n",
       "      <td>4.0</td>\n",
       "      <td>8.0</td>\n",
       "      <td>10.0</td>\n",
       "    </tr>\n",
       "    <tr>\n",
       "      <th>3814</th>\n",
       "      <td>100.0</td>\n",
       "      <td>10.0</td>\n",
       "      <td>10.0</td>\n",
       "      <td>10.0</td>\n",
       "      <td>10.0</td>\n",
       "      <td>10.0</td>\n",
       "    </tr>\n",
       "    <tr>\n",
       "      <th>3815</th>\n",
       "      <td>NaN</td>\n",
       "      <td>NaN</td>\n",
       "      <td>NaN</td>\n",
       "      <td>NaN</td>\n",
       "      <td>NaN</td>\n",
       "      <td>NaN</td>\n",
       "    </tr>\n",
       "    <tr>\n",
       "      <th>3816</th>\n",
       "      <td>NaN</td>\n",
       "      <td>NaN</td>\n",
       "      <td>NaN</td>\n",
       "      <td>NaN</td>\n",
       "      <td>NaN</td>\n",
       "      <td>NaN</td>\n",
       "    </tr>\n",
       "    <tr>\n",
       "      <th>3817</th>\n",
       "      <td>NaN</td>\n",
       "      <td>NaN</td>\n",
       "      <td>NaN</td>\n",
       "      <td>NaN</td>\n",
       "      <td>NaN</td>\n",
       "      <td>NaN</td>\n",
       "    </tr>\n",
       "  </tbody>\n",
       "</table>\n",
       "<p>3781 rows × 6 columns</p>\n",
       "</div>"
      ],
      "text/plain": [
       "      review_scores_rating  review_scores_accuracy  review_scores_cleanliness  \\\n",
       "0                     95.0                    10.0                       10.0   \n",
       "1                     96.0                    10.0                       10.0   \n",
       "2                     97.0                    10.0                       10.0   \n",
       "3                      NaN                     NaN                        NaN   \n",
       "4                     92.0                     9.0                        9.0   \n",
       "...                    ...                     ...                        ...   \n",
       "3813                  80.0                     8.0                       10.0   \n",
       "3814                 100.0                    10.0                       10.0   \n",
       "3815                   NaN                     NaN                        NaN   \n",
       "3816                   NaN                     NaN                        NaN   \n",
       "3817                   NaN                     NaN                        NaN   \n",
       "\n",
       "      review_scores_checkin  review_scores_communication  \\\n",
       "0                      10.0                         10.0   \n",
       "1                      10.0                         10.0   \n",
       "2                      10.0                         10.0   \n",
       "3                       NaN                          NaN   \n",
       "4                      10.0                         10.0   \n",
       "...                     ...                          ...   \n",
       "3813                    4.0                          8.0   \n",
       "3814                   10.0                         10.0   \n",
       "3815                    NaN                          NaN   \n",
       "3816                    NaN                          NaN   \n",
       "3817                    NaN                          NaN   \n",
       "\n",
       "      review_scores_location  \n",
       "0                        9.0  \n",
       "1                       10.0  \n",
       "2                       10.0  \n",
       "3                        NaN  \n",
       "4                        9.0  \n",
       "...                      ...  \n",
       "3813                    10.0  \n",
       "3814                    10.0  \n",
       "3815                     NaN  \n",
       "3816                     NaN  \n",
       "3817                     NaN  \n",
       "\n",
       "[3781 rows x 6 columns]"
      ]
     },
     "execution_count": 45,
     "metadata": {},
     "output_type": "execute_result"
    }
   ],
   "source": [
    "# não posso substituir nenhum destes valores, nem preenche-los, pois sao avaliações importantes, entao iremos dropar os nulos\n",
    "seatle_listings[['review_scores_rating', 'review_scores_accuracy', 'review_scores_cleanliness', \n",
    "                 'review_scores_checkin', 'review_scores_communication', 'review_scores_location']]"
   ]
  },
  {
   "cell_type": "code",
   "execution_count": 46,
   "metadata": {},
   "outputs": [],
   "source": [
    "seatle_listings.dropna(axis = 0, how = 'any', inplace = True)"
   ]
  },
  {
   "cell_type": "markdown",
   "metadata": {},
   "source": [
    "#### Extração da rua"
   ]
  },
  {
   "cell_type": "code",
   "execution_count": 47,
   "metadata": {},
   "outputs": [],
   "source": [
    "# antes de tudo, vamos resetar o indice\n",
    "seatle_listings.reset_index(inplace = True, drop=True)\n",
    "seatle_listings['street'] = seatle_listings['street'].str.rsplit(',').str[0]"
   ]
  },
  {
   "cell_type": "code",
   "execution_count": 48,
   "metadata": {},
   "outputs": [],
   "source": [
    "cep=seatle_listings['zipcode'].unique()[10]"
   ]
  },
  {
   "cell_type": "code",
   "execution_count": 49,
   "metadata": {},
   "outputs": [
    {
     "data": {
      "text/html": [
       "<div>\n",
       "<style scoped>\n",
       "    .dataframe tbody tr th:only-of-type {\n",
       "        vertical-align: middle;\n",
       "    }\n",
       "\n",
       "    .dataframe tbody tr th {\n",
       "        vertical-align: top;\n",
       "    }\n",
       "\n",
       "    .dataframe thead th {\n",
       "        text-align: right;\n",
       "    }\n",
       "</style>\n",
       "<table border=\"1\" class=\"dataframe\">\n",
       "  <thead>\n",
       "    <tr style=\"text-align: right;\">\n",
       "      <th></th>\n",
       "      <th>description</th>\n",
       "      <th>neighborhood_overview</th>\n",
       "      <th>host_location</th>\n",
       "      <th>host_response_time</th>\n",
       "      <th>host_response_rate</th>\n",
       "      <th>host_is_superhost</th>\n",
       "      <th>host_listings_count</th>\n",
       "      <th>host_total_listings_count</th>\n",
       "      <th>host_identity_verified</th>\n",
       "      <th>street</th>\n",
       "      <th>...</th>\n",
       "      <th>review_scores_checkin</th>\n",
       "      <th>review_scores_communication</th>\n",
       "      <th>review_scores_location</th>\n",
       "      <th>review_scores_value</th>\n",
       "      <th>instant_bookable</th>\n",
       "      <th>cancellation_policy</th>\n",
       "      <th>require_guest_profile_picture</th>\n",
       "      <th>require_guest_phone_verification</th>\n",
       "      <th>calculated_host_listings_count</th>\n",
       "      <th>reviews_per_month</th>\n",
       "    </tr>\n",
       "  </thead>\n",
       "  <tbody>\n",
       "    <tr>\n",
       "      <th>715</th>\n",
       "      <td>1</td>\n",
       "      <td>0</td>\n",
       "      <td>US</td>\n",
       "      <td>1</td>\n",
       "      <td>60.0</td>\n",
       "      <td>f</td>\n",
       "      <td>3.0</td>\n",
       "      <td>3.0</td>\n",
       "      <td>t</td>\n",
       "      <td>14th Ave</td>\n",
       "      <td>...</td>\n",
       "      <td>10.0</td>\n",
       "      <td>10.0</td>\n",
       "      <td>10.0</td>\n",
       "      <td>10.0</td>\n",
       "      <td>f</td>\n",
       "      <td>flexible</td>\n",
       "      <td>f</td>\n",
       "      <td>f</td>\n",
       "      <td>3</td>\n",
       "      <td>1.0</td>\n",
       "    </tr>\n",
       "  </tbody>\n",
       "</table>\n",
       "<p>1 rows × 53 columns</p>\n",
       "</div>"
      ],
      "text/plain": [
       "     description  neighborhood_overview host_location  host_response_time  \\\n",
       "715            1                      0            US                   1   \n",
       "\n",
       "     host_response_rate host_is_superhost  host_listings_count  \\\n",
       "715                60.0                 f                  3.0   \n",
       "\n",
       "     host_total_listings_count host_identity_verified    street  ...  \\\n",
       "715                        3.0                      t  14th Ave  ...   \n",
       "\n",
       "    review_scores_checkin review_scores_communication review_scores_location  \\\n",
       "715                  10.0                        10.0                   10.0   \n",
       "\n",
       "     review_scores_value  instant_bookable cancellation_policy  \\\n",
       "715                 10.0                 f            flexible   \n",
       "\n",
       "    require_guest_profile_picture require_guest_phone_verification  \\\n",
       "715                             f                                f   \n",
       "\n",
       "     calculated_host_listings_count  reviews_per_month  \n",
       "715                               3                1.0  \n",
       "\n",
       "[1 rows x 53 columns]"
      ]
     },
     "execution_count": 49,
     "metadata": {},
     "output_type": "execute_result"
    }
   ],
   "source": [
    "# corrigindo cep estranho\n",
    "seatle_listings.query('zipcode in @cep')"
   ]
  },
  {
   "cell_type": "code",
   "execution_count": 50,
   "metadata": {},
   "outputs": [],
   "source": [
    "seatle_listings.loc[715, 'zipcode'] = seatle_listings.loc[715, 'zipcode'][3:]"
   ]
  },
  {
   "cell_type": "markdown",
   "metadata": {},
   "source": [
    "# Verificação de performance"
   ]
  },
  {
   "cell_type": "markdown",
   "metadata": {},
   "source": [
    "### Quais ruas possuem os maiores preços de alocação?\n",
    "\n",
    "Para responder esta pergunta, iremos seguir com um agrupamento por rua e selecionar a média do preço. Iremos tratar as 10 primeiras ruas com os maiores preços para que em outra visualizações possamos identificar (com base nas metodologias selecionadas) se as mais caras possuem mais avaliações, etc..."
   ]
  },
  {
   "cell_type": "code",
   "execution_count": 51,
   "metadata": {},
   "outputs": [],
   "source": [
    "media_preço_rua = seatle_listings.groupby(['street'])['price'].mean().sort_values(ascending = False).head(10)"
   ]
  },
  {
   "cell_type": "code",
   "execution_count": 52,
   "metadata": {},
   "outputs": [
    {
     "data": {
      "image/png": "[encoded data removed]",
      "text/plain": [
       "<Figure size 1080x360 with 1 Axes>"
      ]
     },
     "metadata": {},
     "output_type": "display_data"
    }
   ],
   "source": [
    "ax = media_preço_rua.sort_values(ascending = True).plot(kind = 'barh', figsize = (15,5))\n",
    "ax.set_ylabel('')\n",
    "ax.set_title('Ruas com maiores médias de preço de alocação', fontsize = 13)\n",
    "ax.set_xlabel('Preço médio de alocação', fontsize = 13);"
   ]
  },
  {
   "cell_type": "markdown",
   "metadata": {},
   "source": [
    "### Quais ruas que mais utilizaram as palavras chave?\n",
    "\n",
    "Como determinei na tratativa dos dados, algumas palavras chave foram selecionadas e foi adicionado a contagem em que elas aparecem nas descrições, então utilizaremos isso para verificar as ruas que mais utilizaram estas palavras chave."
   ]
  },
  {
   "cell_type": "code",
   "execution_count": 53,
   "metadata": {},
   "outputs": [],
   "source": [
    "rua_palavra_chave = seatle_listings.groupby(['street'])['description'].sum().sort_values(ascending = False).head(10)"
   ]
  },
  {
   "cell_type": "code",
   "execution_count": 54,
   "metadata": {},
   "outputs": [
    {
     "data": {
      "image/png": "[encoded data removed]",
      "text/plain": [
       "<Figure size 1080x360 with 1 Axes>"
      ]
     },
     "metadata": {},
     "output_type": "display_data"
    }
   ],
   "source": [
    "ax = rua_palavra_chave.sort_values(ascending=True).plot(kind='barh', figsize=(15,5))\n",
    "ax.set_ylabel('')\n",
    "ax.set_title('Utilização de palavras chave seletas', fontsize = 13)\n",
    "ax.set_xlabel('Quantia de palavras chave utilizadas', fontsize = 13);"
   ]
  },
  {
   "cell_type": "markdown",
   "metadata": {},
   "source": [
    "### Quais ruas com maiores contagens de avaliações?\n",
    "\n",
    "Com base na visualização anterior, minha ideia é conferir se as ruas com maiores medias de preço, possuem as maiores quantias de avaliações de usuarios tambem, e possivelmente justificando os altos preços devido a alta demanda de locação."
   ]
  },
  {
   "cell_type": "code",
   "execution_count": 55,
   "metadata": {},
   "outputs": [],
   "source": [
    "aval_count = seatle_listings.groupby('street')['review_scores_value'].count().sort_values(ascending = False).head(10)"
   ]
  },
  {
   "cell_type": "code",
   "execution_count": 56,
   "metadata": {},
   "outputs": [
    {
     "data": {
      "image/png": "[encoded data removed]",
      "text/plain": [
       "<Figure size 1080x360 with 1 Axes>"
      ]
     },
     "metadata": {},
     "output_type": "display_data"
    }
   ],
   "source": [
    "ax = aval_count.sort_values(ascending = True).plot(kind ='barh', figsize=(15,5))\n",
    "ax.set_ylabel('')\n",
    "ax.set_title('Ruas com maiores contagens de avaliações', fontsize = 13)\n",
    "ax.set_xlabel('Contagem de avaliações', fontsize = 13);"
   ]
  },
  {
   "cell_type": "markdown",
   "metadata": {},
   "source": [
    "E como resultado podemos ver que na verdade, as ruas que mais utilizaram as palavras chave selecionadas são as que mais possuem avaliações (a maioria pelo menos), e não as que possuem maiores preços."
   ]
  },
  {
   "cell_type": "markdown",
   "metadata": {},
   "source": [
    "### Qual a média de valor cobrado por tipo de propriedade?\n",
    "\n",
    "Intenção desta visualização, é tirar uma base do quanto é cobrado em média por tipo de residencia"
   ]
  },
  {
   "cell_type": "code",
   "execution_count": 57,
   "metadata": {},
   "outputs": [],
   "source": [
    "media_por_propriedade = seatle_listings.groupby(['property_type'])['price'].mean().sort_values()"
   ]
  },
  {
   "cell_type": "code",
   "execution_count": 58,
   "metadata": {},
   "outputs": [
    {
     "data": {
      "image/png": "[encoded data removed]",
      "text/plain": [
       "<Figure size 1080x360 with 1 Axes>"
      ]
     },
     "metadata": {},
     "output_type": "display_data"
    }
   ],
   "source": [
    "ax = media_por_propriedade.sort_values(ascending = True).plot(kind='barh', figsize=(15,5))\n",
    "ax.set_title('Média de preços por tipo de propriedade', fontsize=13)\n",
    "ax.set_ylabel('')\n",
    "ax.set_xlabel('Média de preço', fontsize=13);"
   ]
  },
  {
   "cell_type": "markdown",
   "metadata": {},
   "source": [
    "### Quais propriedades possuem mais avaliações?"
   ]
  },
  {
   "cell_type": "code",
   "execution_count": 59,
   "metadata": {},
   "outputs": [],
   "source": [
    "count_prop = seatle_listings.groupby(['property_type'])['review_scores_value'].count().sort_values(ascending = True)"
   ]
  },
  {
   "cell_type": "code",
   "execution_count": 60,
   "metadata": {},
   "outputs": [
    {
     "data": {
      "text/plain": [
       "<matplotlib.axes._subplots.AxesSubplot at 0x17771641148>"
      ]
     },
     "execution_count": 60,
     "metadata": {},
     "output_type": "execute_result"
    },
    {
     "data": {
      "image/png": "[encoded data removed]",
      "text/plain": [
       "<Figure size 1080x360 with 1 Axes>"
      ]
     },
     "metadata": {},
     "output_type": "display_data"
    }
   ],
   "source": [
    "count_prop.plot(kind = 'barh', figsize=(15,5))"
   ]
  },
  {
   "cell_type": "markdown",
   "metadata": {},
   "source": [
    "## Instanciamento modelo linear"
   ]
  },
  {
   "cell_type": "markdown",
   "metadata": {},
   "source": [
    "#### Teste I:\n",
    "Verificação das métricas dos modelos sem estratificação nos dados"
   ]
  },
  {
   "cell_type": "code",
   "execution_count": 61,
   "metadata": {},
   "outputs": [],
   "source": [
    "from sklearn.linear_model import Ridge"
   ]
  },
  {
   "cell_type": "code",
   "execution_count": 62,
   "metadata": {},
   "outputs": [],
   "source": [
    "new_cat_cols = seatle_listings.select_dtypes('object').columns\n",
    "for col in new_cat_cols:\n",
    "    seatle_listings = pd.concat([seatle_listings.drop(col, axis = 1), pd.get_dummies(seatle_listings[col], drop_first=True, prefix=col)], axis = 1) "
   ]
  },
  {
   "cell_type": "code",
   "execution_count": 63,
   "metadata": {},
   "outputs": [],
   "source": [
    "linear = LinearRegression(normalize=True)\n",
    "ridge = RidgeCV(normalize=True)\n",
    "sgd = SGDRegressor()\n",
    "ridge2 = Ridge()"
   ]
  },
  {
   "cell_type": "code",
   "execution_count": 64,
   "metadata": {},
   "outputs": [],
   "source": [
    "X = seatle_listings.drop('price', axis = 1)\n",
    "y = seatle_listings['price']"
   ]
  },
  {
   "cell_type": "code",
   "execution_count": 65,
   "metadata": {},
   "outputs": [],
   "source": [
    "# separação de nossos dados para treino e teste\n",
    "X_train, X_test, y_train, y_test = train_test_split(X, y, test_size=0.3, random_state=42)"
   ]
  },
  {
   "cell_type": "code",
   "execution_count": 66,
   "metadata": {},
   "outputs": [
    {
     "name": "stdout",
     "output_type": "stream",
     "text": [
      "R2 Score: -2.2614168658872584e+23, R2 train score: 0.998519551834112, mean_squared_error: 1.8085687096697715e+27\n"
     ]
    }
   ],
   "source": [
    "testa_modelo(linear)"
   ]
  },
  {
   "cell_type": "code",
   "execution_count": 67,
   "metadata": {},
   "outputs": [
    {
     "name": "stdout",
     "output_type": "stream",
     "text": [
      "R2 Score: 0.8376787346266902, R2 train score: 0.9925329015615978, mean_squared_error: 1298.164729805315\n"
     ]
    }
   ],
   "source": [
    "testa_modelo(ridge)"
   ]
  },
  {
   "cell_type": "code",
   "execution_count": 68,
   "metadata": {},
   "outputs": [
    {
     "name": "stdout",
     "output_type": "stream",
     "text": [
      "R2 Score: -9.193733032806853e+25, R2 train score: -8.420806091179547e+26, mean_squared_error: 7.352690315090628e+29\n"
     ]
    }
   ],
   "source": [
    "testa_modelo(sgd)"
   ]
  },
  {
   "cell_type": "code",
   "execution_count": 69,
   "metadata": {},
   "outputs": [
    {
     "name": "stdout",
     "output_type": "stream",
     "text": [
      "R2 Score: 0.9397725711445206, R2 train score: 0.9881932587489705, mean_squared_error: 481.6690143908779\n"
     ]
    }
   ],
   "source": [
    "testa_modelo(ridge2)"
   ]
  },
  {
   "cell_type": "markdown",
   "metadata": {},
   "source": [
    "O modelo que usa uma leve stratificação se deu um pouco melhor, então irei estratificar os dados para depois instanciar o modelo"
   ]
  },
  {
   "cell_type": "markdown",
   "metadata": {},
   "source": [
    "#### Teste II: \n",
    "Dados estratificados"
   ]
  },
  {
   "cell_type": "code",
   "execution_count": 70,
   "metadata": {},
   "outputs": [
    {
     "data": {
      "text/plain": [
       "50"
      ]
     },
     "execution_count": 70,
     "metadata": {},
     "output_type": "execute_result"
    }
   ],
   "source": [
    "cv = RepeatedStratifiedKFold()\n",
    "cv.get_n_splits(X,y)"
   ]
  },
  {
   "cell_type": "code",
   "execution_count": 71,
   "metadata": {},
   "outputs": [
    {
     "name": "stderr",
     "output_type": "stream",
     "text": [
      "C:\\Users\\Kaiqu\\anaconda3\\lib\\site-packages\\sklearn\\model_selection\\_split.py:667: UserWarning: The least populated class in y has only 1 members, which is less than n_splits=5.\n",
      "  % (min_groups, self.n_splits)), UserWarning)\n",
      "C:\\Users\\Kaiqu\\anaconda3\\lib\\site-packages\\sklearn\\model_selection\\_split.py:667: UserWarning: The least populated class in y has only 1 members, which is less than n_splits=5.\n",
      "  % (min_groups, self.n_splits)), UserWarning)\n",
      "C:\\Users\\Kaiqu\\anaconda3\\lib\\site-packages\\sklearn\\model_selection\\_split.py:667: UserWarning: The least populated class in y has only 1 members, which is less than n_splits=5.\n",
      "  % (min_groups, self.n_splits)), UserWarning)\n",
      "C:\\Users\\Kaiqu\\anaconda3\\lib\\site-packages\\sklearn\\model_selection\\_split.py:667: UserWarning: The least populated class in y has only 1 members, which is less than n_splits=5.\n",
      "  % (min_groups, self.n_splits)), UserWarning)\n",
      "C:\\Users\\Kaiqu\\anaconda3\\lib\\site-packages\\sklearn\\model_selection\\_split.py:667: UserWarning: The least populated class in y has only 1 members, which is less than n_splits=5.\n",
      "  % (min_groups, self.n_splits)), UserWarning)\n",
      "C:\\Users\\Kaiqu\\anaconda3\\lib\\site-packages\\sklearn\\model_selection\\_split.py:667: UserWarning: The least populated class in y has only 1 members, which is less than n_splits=5.\n",
      "  % (min_groups, self.n_splits)), UserWarning)\n",
      "C:\\Users\\Kaiqu\\anaconda3\\lib\\site-packages\\sklearn\\model_selection\\_split.py:667: UserWarning: The least populated class in y has only 1 members, which is less than n_splits=5.\n",
      "  % (min_groups, self.n_splits)), UserWarning)\n",
      "C:\\Users\\Kaiqu\\anaconda3\\lib\\site-packages\\sklearn\\model_selection\\_split.py:667: UserWarning: The least populated class in y has only 1 members, which is less than n_splits=5.\n",
      "  % (min_groups, self.n_splits)), UserWarning)\n",
      "C:\\Users\\Kaiqu\\anaconda3\\lib\\site-packages\\sklearn\\model_selection\\_split.py:667: UserWarning: The least populated class in y has only 1 members, which is less than n_splits=5.\n",
      "  % (min_groups, self.n_splits)), UserWarning)\n",
      "C:\\Users\\Kaiqu\\anaconda3\\lib\\site-packages\\sklearn\\model_selection\\_split.py:667: UserWarning: The least populated class in y has only 1 members, which is less than n_splits=5.\n",
      "  % (min_groups, self.n_splits)), UserWarning)\n"
     ]
    }
   ],
   "source": [
    "for train_index, test_index in cv.split(X, y):\n",
    "    X_train, X_test = X.T[train_index], X.T[test_index]\n",
    "    y_train, y_test = y[train_index], y[test_index]"
   ]
  },
  {
   "cell_type": "code",
   "execution_count": 72,
   "metadata": {},
   "outputs": [],
   "source": [
    "X_train, X_test = X_train.T, X_test.T"
   ]
  },
  {
   "cell_type": "code",
   "execution_count": 73,
   "metadata": {},
   "outputs": [],
   "source": [
    "linear = LinearRegression(normalize=True)\n",
    "ridge = RidgeCV(normalize=True)\n",
    "sgd = SGDRegressor()\n",
    "ridge2 = Ridge()"
   ]
  },
  {
   "cell_type": "code",
   "execution_count": 74,
   "metadata": {},
   "outputs": [
    {
     "name": "stdout",
     "output_type": "stream",
     "text": [
      "R2 Score: -6.435784632553918e+23, R2 train score: 0.9974066276634447, mean_squared_error: 5.014197775806784e+27\n"
     ]
    }
   ],
   "source": [
    "testa_modelo(linear)"
   ]
  },
  {
   "cell_type": "code",
   "execution_count": 75,
   "metadata": {},
   "outputs": [
    {
     "name": "stdout",
     "output_type": "stream",
     "text": [
      "R2 Score: 0.816993880556205, R2 train score: 0.9940781925310141, mean_squared_error: 1425.8228475087485\n"
     ]
    }
   ],
   "source": [
    "testa_modelo(ridge)"
   ]
  },
  {
   "cell_type": "code",
   "execution_count": 76,
   "metadata": {},
   "outputs": [
    {
     "name": "stdout",
     "output_type": "stream",
     "text": [
      "R2 Score: -3.303232731953179e+28, R2 train score: -1.8184075463728914e+29, mean_squared_error: 2.573588639643316e+32\n"
     ]
    }
   ],
   "source": [
    "testa_modelo(sgd)"
   ]
  },
  {
   "cell_type": "code",
   "execution_count": 77,
   "metadata": {},
   "outputs": [
    {
     "name": "stdout",
     "output_type": "stream",
     "text": [
      "R2 Score: 0.9468752590468897, R2 train score: 0.9879100244725186, mean_squared_error: 413.9012927498939\n"
     ]
    }
   ],
   "source": [
    "testa_modelo(ridge2)"
   ]
  },
  {
   "cell_type": "markdown",
   "metadata": {},
   "source": [
    "Verificando a distribuição da nossa variavel y, ela é assimetrica a esquerda.<br>\n",
    "Entao para tentar deixar com uma distribuição normal, irei usar seu logaritmo."
   ]
  },
  {
   "cell_type": "markdown",
   "metadata": {},
   "source": [
    "#### Teste III:\n",
    "Utilização de logarítimo da variavel y para adquirir uma distribuição normal"
   ]
  },
  {
   "cell_type": "code",
   "execution_count": 78,
   "metadata": {},
   "outputs": [
    {
     "data": {
      "text/plain": [
       "<matplotlib.axes._subplots.AxesSubplot at 0x177716d5ec8>"
      ]
     },
     "execution_count": 78,
     "metadata": {},
     "output_type": "execute_result"
    },
    {
     "data": {
      "image/png": "[encoded data removed]",
      "text/plain": [
       "<Figure size 432x288 with 1 Axes>"
      ]
     },
     "metadata": {},
     "output_type": "display_data"
    }
   ],
   "source": [
    "y.hist()"
   ]
  },
  {
   "cell_type": "code",
   "execution_count": 79,
   "metadata": {},
   "outputs": [
    {
     "data": {
      "text/plain": [
       "<matplotlib.axes._subplots.AxesSubplot at 0x177716ad888>"
      ]
     },
     "execution_count": 79,
     "metadata": {},
     "output_type": "execute_result"
    },
    {
     "data": {
      "image/png": "[encoded data removed]",
      "text/plain": [
       "<Figure size 432x288 with 1 Axes>"
      ]
     },
     "metadata": {},
     "output_type": "display_data"
    }
   ],
   "source": [
    "# para reverter a seu estado original, basta utilizar np.exp()\n",
    "y_log = np.log(y)\n",
    "y_log.hist()"
   ]
  },
  {
   "cell_type": "code",
   "execution_count": 80,
   "metadata": {},
   "outputs": [],
   "source": [
    "X_train, X_test, y_train, y_test = train_test_split(X, y_log, test_size=0.3, random_state=42)\n",
    "\n",
    "linear = LinearRegression(normalize=True)\n",
    "ridge = RidgeCV(normalize=True)\n",
    "sgd = SGDRegressor()\n",
    "ridge2 = Ridge()"
   ]
  },
  {
   "cell_type": "code",
   "execution_count": 81,
   "metadata": {},
   "outputs": [
    {
     "name": "stdout",
     "output_type": "stream",
     "text": [
      "R2 Score: -4.211979988711582e+23, R2 train score: 0.9971553614859504, mean_squared_error: 1.30698771622944e+23\n"
     ]
    }
   ],
   "source": [
    "testa_modelo(linear)"
   ]
  },
  {
   "cell_type": "code",
   "execution_count": 82,
   "metadata": {},
   "outputs": [
    {
     "name": "stdout",
     "output_type": "stream",
     "text": [
      "R2 Score: 0.7989374210380171, R2 train score: 0.996190640592043, mean_squared_error: 0.062390211159837\n"
     ]
    }
   ],
   "source": [
    "testa_modelo(ridge)"
   ]
  },
  {
   "cell_type": "code",
   "execution_count": 83,
   "metadata": {},
   "outputs": [
    {
     "name": "stdout",
     "output_type": "stream",
     "text": [
      "R2 Score: -3.639511840423121e+32, R2 train score: -4.500642361380807e+32, mean_squared_error: 1.1293494464012627e+32\n"
     ]
    }
   ],
   "source": [
    "testa_modelo(sgd)"
   ]
  },
  {
   "cell_type": "code",
   "execution_count": 84,
   "metadata": {},
   "outputs": [
    {
     "name": "stdout",
     "output_type": "stream",
     "text": [
      "R2 Score: 0.8693280173635368, R2 train score: 0.9796807514732234, mean_squared_error: 0.0405478365564236\n"
     ]
    }
   ],
   "source": [
    "testa_modelo(ridge2)"
   ]
  },
  {
   "cell_type": "markdown",
   "metadata": {},
   "source": [
    "Os modelos performaram um pouco melhor, irei testar com dados estratificados agora para checar se há alguma melhora"
   ]
  },
  {
   "cell_type": "markdown",
   "metadata": {},
   "source": [
    "#### Teste IV: \n",
    "Utilizando logaritmo e dados estratificados"
   ]
  },
  {
   "cell_type": "code",
   "execution_count": 85,
   "metadata": {},
   "outputs": [
    {
     "name": "stderr",
     "output_type": "stream",
     "text": [
      "C:\\Users\\Kaiqu\\anaconda3\\lib\\site-packages\\sklearn\\model_selection\\_split.py:667: UserWarning: The least populated class in y has only 1 members, which is less than n_splits=5.\n",
      "  % (min_groups, self.n_splits)), UserWarning)\n",
      "C:\\Users\\Kaiqu\\anaconda3\\lib\\site-packages\\sklearn\\model_selection\\_split.py:667: UserWarning: The least populated class in y has only 1 members, which is less than n_splits=5.\n",
      "  % (min_groups, self.n_splits)), UserWarning)\n",
      "C:\\Users\\Kaiqu\\anaconda3\\lib\\site-packages\\sklearn\\model_selection\\_split.py:667: UserWarning: The least populated class in y has only 1 members, which is less than n_splits=5.\n",
      "  % (min_groups, self.n_splits)), UserWarning)\n",
      "C:\\Users\\Kaiqu\\anaconda3\\lib\\site-packages\\sklearn\\model_selection\\_split.py:667: UserWarning: The least populated class in y has only 1 members, which is less than n_splits=5.\n",
      "  % (min_groups, self.n_splits)), UserWarning)\n",
      "C:\\Users\\Kaiqu\\anaconda3\\lib\\site-packages\\sklearn\\model_selection\\_split.py:667: UserWarning: The least populated class in y has only 1 members, which is less than n_splits=5.\n",
      "  % (min_groups, self.n_splits)), UserWarning)\n",
      "C:\\Users\\Kaiqu\\anaconda3\\lib\\site-packages\\sklearn\\model_selection\\_split.py:667: UserWarning: The least populated class in y has only 1 members, which is less than n_splits=5.\n",
      "  % (min_groups, self.n_splits)), UserWarning)\n",
      "C:\\Users\\Kaiqu\\anaconda3\\lib\\site-packages\\sklearn\\model_selection\\_split.py:667: UserWarning: The least populated class in y has only 1 members, which is less than n_splits=5.\n",
      "  % (min_groups, self.n_splits)), UserWarning)\n",
      "C:\\Users\\Kaiqu\\anaconda3\\lib\\site-packages\\sklearn\\model_selection\\_split.py:667: UserWarning: The least populated class in y has only 1 members, which is less than n_splits=5.\n",
      "  % (min_groups, self.n_splits)), UserWarning)\n",
      "C:\\Users\\Kaiqu\\anaconda3\\lib\\site-packages\\sklearn\\model_selection\\_split.py:667: UserWarning: The least populated class in y has only 1 members, which is less than n_splits=5.\n",
      "  % (min_groups, self.n_splits)), UserWarning)\n",
      "C:\\Users\\Kaiqu\\anaconda3\\lib\\site-packages\\sklearn\\model_selection\\_split.py:667: UserWarning: The least populated class in y has only 1 members, which is less than n_splits=5.\n",
      "  % (min_groups, self.n_splits)), UserWarning)\n"
     ]
    }
   ],
   "source": [
    "np.random.seed(42)\n",
    "\n",
    "for train_index, test_index in cv.split(X, y):\n",
    "    X_train, X_test = X.T[train_index], X.T[test_index]\n",
    "    y_train, y_test = y_log[train_index], y_log[test_index]"
   ]
  },
  {
   "cell_type": "code",
   "execution_count": 86,
   "metadata": {},
   "outputs": [],
   "source": [
    "X_train, X_test = X_train.T, X_test.T"
   ]
  },
  {
   "cell_type": "code",
   "execution_count": 87,
   "metadata": {},
   "outputs": [],
   "source": [
    "X_train, X_test = X_train.reset_index(drop=True), X_test.reset_index(drop=True)\n",
    "y_train, y_test = y_train.reset_index(drop=True), y_test.reset_index(drop=True)"
   ]
  },
  {
   "cell_type": "code",
   "execution_count": 151,
   "metadata": {},
   "outputs": [],
   "source": [
    "linear = LinearRegression(normalize=True)\n",
    "ridge = RidgeCV(normalize=True)\n",
    "sgd = SGDRegressor()\n",
    "ridge2 = Ridge()"
   ]
  },
  {
   "cell_type": "code",
   "execution_count": 152,
   "metadata": {},
   "outputs": [
    {
     "name": "stdout",
     "output_type": "stream",
     "text": [
      "R2 Score: -2.549680399215677e+24, R2 train score: 0.979776262335905, mean_squared_error: 7.771126521526088e+23\n"
     ]
    }
   ],
   "source": [
    "testa_modelo(linear)"
   ]
  },
  {
   "cell_type": "code",
   "execution_count": 153,
   "metadata": {},
   "outputs": [
    {
     "name": "stdout",
     "output_type": "stream",
     "text": [
      "R2 Score: 0.7891321772367623, R2 train score: 0.9953665796512651, mean_squared_error: 0.06427003676680194\n"
     ]
    }
   ],
   "source": [
    "testa_modelo(ridge)"
   ]
  },
  {
   "cell_type": "code",
   "execution_count": 154,
   "metadata": {},
   "outputs": [
    {
     "name": "stdout",
     "output_type": "stream",
     "text": [
      "R2 Score: -5.848840375874313e+31, R2 train score: -6.87647493132639e+31, mean_squared_error: 1.7826578805371557e+31\n"
     ]
    }
   ],
   "source": [
    "testa_modelo(sgd)"
   ]
  },
  {
   "cell_type": "code",
   "execution_count": 155,
   "metadata": {},
   "outputs": [
    {
     "name": "stdout",
     "output_type": "stream",
     "text": [
      "R2 Score: 0.8663619214605484, R2 train score: 0.9793070240792004, mean_squared_error: 0.040731317413083785\n"
     ]
    }
   ],
   "source": [
    "# winner!\n",
    "testa_modelo(ridge2)"
   ]
  },
  {
   "cell_type": "markdown",
   "metadata": {},
   "source": [
    "#### Verificação de alguns resultados"
   ]
  },
  {
   "cell_type": "code",
   "execution_count": 156,
   "metadata": {},
   "outputs": [
    {
     "data": {
      "text/plain": [
       "Ridge(alpha=1.0, copy_X=True, fit_intercept=True, max_iter=None,\n",
       "      normalize=False, random_state=None, solver='auto', tol=0.001)"
      ]
     },
     "execution_count": 156,
     "metadata": {},
     "output_type": "execute_result"
    }
   ],
   "source": [
    "ridge2.fit(X_train, y_train)"
   ]
  },
  {
   "cell_type": "code",
   "execution_count": 157,
   "metadata": {},
   "outputs": [
    {
     "data": {
      "text/plain": [
       "array([ 91.43929108,  90.53060899, 160.59895607, 130.97366076,\n",
       "        66.48100486, 116.69156436, 874.17584335, 127.56073374,\n",
       "       132.20963495,  70.67083575])"
      ]
     },
     "execution_count": 157,
     "metadata": {},
     "output_type": "execute_result"
    }
   ],
   "source": [
    "# Resultado com predict\n",
    "np.exp(ridge2.predict(X_test.iloc[:10, :]))"
   ]
  },
  {
   "cell_type": "code",
   "execution_count": 158,
   "metadata": {},
   "outputs": [
    {
     "data": {
      "text/plain": [
       "0    120.0\n",
       "1     90.0\n",
       "2    165.0\n",
       "3    109.0\n",
       "4     66.0\n",
       "5    110.0\n",
       "6    600.0\n",
       "7    150.0\n",
       "8    130.0\n",
       "9     70.0\n",
       "Name: price, dtype: float64"
      ]
     },
     "execution_count": 158,
     "metadata": {},
     "output_type": "execute_result"
    }
   ],
   "source": [
    "# Resultado original\n",
    "np.exp(y_test[:10])"
   ]
  },
  {
   "cell_type": "markdown",
   "metadata": {},
   "source": [
    "# Conclusões"
   ]
  },
  {
   "cell_type": "markdown",
   "metadata": {},
   "source": [
    "Já gostaria de deixar informado que de forma alguma as metodologias que utilizei são completamente corretas, mas foram as que achei melhor de utilizar.\n",
    "\n",
    "Durante o processo para ajustar os dados, foi de longe o mais complicado, pois os dados possuem muitas informações a serem utilizadas porém me foquei nas que considerei mais uteis para esta analise. Busquei algumas resposta no stackoverflow por nao tinha a menor ideia de como prosseguir, e de certa forma, imagino que no final deu tudo certo. Sem contar também a contagem excessiva de valores NaN.\n",
    "\n",
    "Durante o processo da visualização, vimos no começo as ruas com maior preço de alocação, vimos as ruas que mais utilizaram as palavras chave que definimos previamente, as que mais possuem avaliações, o mais interessante, é que boa parte das ruas com mais utilização das palavras chave foram as que mais receberam avaliações! Então podemos, de certa forma, dizer que a descrição utilizando certas palavras podem ajudar a o local ser alocado. Vimos também os tipos de \"residencia\" que estavam para locação, fiquei impressionado que até barcos são alocados pelo airbnb, tambem verificamos os tipos de propriedade que mais possuem avaliações que por sua maioria foram casa e apartamento e o preço médio destas propriedades.\n",
    "\n",
    "Na parte do nosso modelo de machine learning, foi muito complicada e me levou alguns dias para chegar no resultado atual.<br>\n",
    "Inicialmente, iria fazer apenas com o modelo `LinearRegression` que foi visto em curso, porém suas métricas foram muito ruins (Isto é devido a forma como meus dados ficaram em seu estado final, nao por causa do modelo), então comecei a procurar outros modelos que poderia testar. Então encontrei o `RidgeCV`, selecionei ele pois modelos que lidam com validação cruzada tendem a generalizar melhor quando ajustado aos dados (Como o processo para verificação dos dados, me tomou muito tempo, fiquei sem ideias do que fazer para tentar alterar o resultado com base nos dados, então foquei em testar outros modelos), apos os testes com o RidgeCV serem *levemente melhores*, tentei adicionar mais alguns modelos (incluindo o modelo `Ridge`, que foi o que performou melhor). <br>\n",
    "\n",
    "Apos alguns leves testes, para verificar o erro quadratico médio e o R2 score, como o modelo RidgeCV tinha performado um pouco melhor, pensei em fazer a _estratificação nos dados_ e ver o comportamento dos outros modelos(que não mudaram muita coisa), e o mais interessante é que fora a validação cruzada do proprio RidgeCV, com os dados estratificados *ele performou um pouco melhor*. Foi neste momento que decidi testar o modelo Ridge, com dados estratificados e sem, e sua performance foi superior a todos os outros modelos, porém o erro quadratico ainda estava me intrigando, pois estava com um valor que eu não estava acostumado a ver.<br>\n",
    "\n",
    "Após os testes no modelo Ridge, lembrei de ter visto em algum lugar, que quando a distribuição da variavel alvo não é normal, o modelo pode ficar com problemas e ter resultados diversos, então lembrei que em alguns casos, ao invés de utilizar o valor real, poderiamos utilizar o valor logaritimico para tentar adquirir uma *distribuição normal*, e foi o que ocorreu em nosso caso (Não sei se esta foi a melhor decisão a ser tomada, mas me parece que sim com base no meu conhecimento limitado em machine learning). Após as alterações feitas nos dados de treino e teste, a metodologia Ridge chego muito perto dos resultados esperados, o modelo não chegou a receber um overfit, com um valor R2 aceitável e um erro quadratico abaixo de 0.05 (no limite, mas abaixo), e foi com este resultado que decidi conceder que este modelo seria apropriado para previsões com os dados que tinha escolhido."
   ]
  },
  {
   "cell_type": "code",
   "execution_count": null,
   "metadata": {},
   "outputs": [],
   "source": []
  }
 ],
 "metadata": {
  "kernelspec": {
   "display_name": "Python 3",
   "language": "python",
   "name": "python3"
  },
  "language_info": {
   "codemirror_mode": {
    "name": "ipython",
    "version": 3
   },
   "file_extension": ".py",
   "mimetype": "text/x-python",
   "name": "python",
   "nbconvert_exporter": "python",
   "pygments_lexer": "ipython3",
   "version": "3.7.6"
  }
 },
 "nbformat": 4,
 "nbformat_minor": 4
}
